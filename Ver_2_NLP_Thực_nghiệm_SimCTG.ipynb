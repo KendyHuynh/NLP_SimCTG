{
  "nbformat": 4,
  "nbformat_minor": 0,
  "metadata": {
    "colab": {
      "provenance": []
    },
    "kernelspec": {
      "name": "python3",
      "display_name": "Python 3"
    },
    "language_info": {
      "name": "python"
    },
    "widgets": {
      "application/vnd.jupyter.widget-state+json": {
        "a6da8526758c457db017993bc04f48f5": {
          "model_module": "@jupyter-widgets/controls",
          "model_name": "HBoxModel",
          "model_module_version": "1.5.0",
          "state": {
            "_dom_classes": [],
            "_model_module": "@jupyter-widgets/controls",
            "_model_module_version": "1.5.0",
            "_model_name": "HBoxModel",
            "_view_count": null,
            "_view_module": "@jupyter-widgets/controls",
            "_view_module_version": "1.5.0",
            "_view_name": "HBoxView",
            "box_style": "",
            "children": [
              "IPY_MODEL_4cf98a3984d54af08b98d5e39651c8e8",
              "IPY_MODEL_d27c244788a84695ac9b89c755c17233",
              "IPY_MODEL_89a7528d2fc64fe5a2e058e76a46d5d7"
            ],
            "layout": "IPY_MODEL_2d7080d03d364cf9ba28f2f87abbc94e"
          }
        },
        "4cf98a3984d54af08b98d5e39651c8e8": {
          "model_module": "@jupyter-widgets/controls",
          "model_name": "HTMLModel",
          "model_module_version": "1.5.0",
          "state": {
            "_dom_classes": [],
            "_model_module": "@jupyter-widgets/controls",
            "_model_module_version": "1.5.0",
            "_model_name": "HTMLModel",
            "_view_count": null,
            "_view_module": "@jupyter-widgets/controls",
            "_view_module_version": "1.5.0",
            "_view_name": "HTMLView",
            "description": "",
            "description_tooltip": null,
            "layout": "IPY_MODEL_f27de9e8c6d649c9b71e47636b18d93a",
            "placeholder": "​",
            "style": "IPY_MODEL_47af480d098d46759c98ffb0d9414967",
            "value": "tokenizer_config.json: 100%"
          }
        },
        "d27c244788a84695ac9b89c755c17233": {
          "model_module": "@jupyter-widgets/controls",
          "model_name": "FloatProgressModel",
          "model_module_version": "1.5.0",
          "state": {
            "_dom_classes": [],
            "_model_module": "@jupyter-widgets/controls",
            "_model_module_version": "1.5.0",
            "_model_name": "FloatProgressModel",
            "_view_count": null,
            "_view_module": "@jupyter-widgets/controls",
            "_view_module_version": "1.5.0",
            "_view_name": "ProgressView",
            "bar_style": "success",
            "description": "",
            "description_tooltip": null,
            "layout": "IPY_MODEL_45b0003b0dc84dbebd4e8fcfcb331d82",
            "max": 215,
            "min": 0,
            "orientation": "horizontal",
            "style": "IPY_MODEL_51bcbcebfa2f4fa69b48b2faca6020bd",
            "value": 215
          }
        },
        "89a7528d2fc64fe5a2e058e76a46d5d7": {
          "model_module": "@jupyter-widgets/controls",
          "model_name": "HTMLModel",
          "model_module_version": "1.5.0",
          "state": {
            "_dom_classes": [],
            "_model_module": "@jupyter-widgets/controls",
            "_model_module_version": "1.5.0",
            "_model_name": "HTMLModel",
            "_view_count": null,
            "_view_module": "@jupyter-widgets/controls",
            "_view_module_version": "1.5.0",
            "_view_name": "HTMLView",
            "description": "",
            "description_tooltip": null,
            "layout": "IPY_MODEL_186c785c8f20416189e60fef392e89bf",
            "placeholder": "​",
            "style": "IPY_MODEL_6be91123c347417d86902879a6a555c6",
            "value": " 215/215 [00:00&lt;00:00, 11.6kB/s]"
          }
        },
        "2d7080d03d364cf9ba28f2f87abbc94e": {
          "model_module": "@jupyter-widgets/base",
          "model_name": "LayoutModel",
          "model_module_version": "1.2.0",
          "state": {
            "_model_module": "@jupyter-widgets/base",
            "_model_module_version": "1.2.0",
            "_model_name": "LayoutModel",
            "_view_count": null,
            "_view_module": "@jupyter-widgets/base",
            "_view_module_version": "1.2.0",
            "_view_name": "LayoutView",
            "align_content": null,
            "align_items": null,
            "align_self": null,
            "border": null,
            "bottom": null,
            "display": null,
            "flex": null,
            "flex_flow": null,
            "grid_area": null,
            "grid_auto_columns": null,
            "grid_auto_flow": null,
            "grid_auto_rows": null,
            "grid_column": null,
            "grid_gap": null,
            "grid_row": null,
            "grid_template_areas": null,
            "grid_template_columns": null,
            "grid_template_rows": null,
            "height": null,
            "justify_content": null,
            "justify_items": null,
            "left": null,
            "margin": null,
            "max_height": null,
            "max_width": null,
            "min_height": null,
            "min_width": null,
            "object_fit": null,
            "object_position": null,
            "order": null,
            "overflow": null,
            "overflow_x": null,
            "overflow_y": null,
            "padding": null,
            "right": null,
            "top": null,
            "visibility": null,
            "width": null
          }
        },
        "f27de9e8c6d649c9b71e47636b18d93a": {
          "model_module": "@jupyter-widgets/base",
          "model_name": "LayoutModel",
          "model_module_version": "1.2.0",
          "state": {
            "_model_module": "@jupyter-widgets/base",
            "_model_module_version": "1.2.0",
            "_model_name": "LayoutModel",
            "_view_count": null,
            "_view_module": "@jupyter-widgets/base",
            "_view_module_version": "1.2.0",
            "_view_name": "LayoutView",
            "align_content": null,
            "align_items": null,
            "align_self": null,
            "border": null,
            "bottom": null,
            "display": null,
            "flex": null,
            "flex_flow": null,
            "grid_area": null,
            "grid_auto_columns": null,
            "grid_auto_flow": null,
            "grid_auto_rows": null,
            "grid_column": null,
            "grid_gap": null,
            "grid_row": null,
            "grid_template_areas": null,
            "grid_template_columns": null,
            "grid_template_rows": null,
            "height": null,
            "justify_content": null,
            "justify_items": null,
            "left": null,
            "margin": null,
            "max_height": null,
            "max_width": null,
            "min_height": null,
            "min_width": null,
            "object_fit": null,
            "object_position": null,
            "order": null,
            "overflow": null,
            "overflow_x": null,
            "overflow_y": null,
            "padding": null,
            "right": null,
            "top": null,
            "visibility": null,
            "width": null
          }
        },
        "47af480d098d46759c98ffb0d9414967": {
          "model_module": "@jupyter-widgets/controls",
          "model_name": "DescriptionStyleModel",
          "model_module_version": "1.5.0",
          "state": {
            "_model_module": "@jupyter-widgets/controls",
            "_model_module_version": "1.5.0",
            "_model_name": "DescriptionStyleModel",
            "_view_count": null,
            "_view_module": "@jupyter-widgets/base",
            "_view_module_version": "1.2.0",
            "_view_name": "StyleView",
            "description_width": ""
          }
        },
        "45b0003b0dc84dbebd4e8fcfcb331d82": {
          "model_module": "@jupyter-widgets/base",
          "model_name": "LayoutModel",
          "model_module_version": "1.2.0",
          "state": {
            "_model_module": "@jupyter-widgets/base",
            "_model_module_version": "1.2.0",
            "_model_name": "LayoutModel",
            "_view_count": null,
            "_view_module": "@jupyter-widgets/base",
            "_view_module_version": "1.2.0",
            "_view_name": "LayoutView",
            "align_content": null,
            "align_items": null,
            "align_self": null,
            "border": null,
            "bottom": null,
            "display": null,
            "flex": null,
            "flex_flow": null,
            "grid_area": null,
            "grid_auto_columns": null,
            "grid_auto_flow": null,
            "grid_auto_rows": null,
            "grid_column": null,
            "grid_gap": null,
            "grid_row": null,
            "grid_template_areas": null,
            "grid_template_columns": null,
            "grid_template_rows": null,
            "height": null,
            "justify_content": null,
            "justify_items": null,
            "left": null,
            "margin": null,
            "max_height": null,
            "max_width": null,
            "min_height": null,
            "min_width": null,
            "object_fit": null,
            "object_position": null,
            "order": null,
            "overflow": null,
            "overflow_x": null,
            "overflow_y": null,
            "padding": null,
            "right": null,
            "top": null,
            "visibility": null,
            "width": null
          }
        },
        "51bcbcebfa2f4fa69b48b2faca6020bd": {
          "model_module": "@jupyter-widgets/controls",
          "model_name": "ProgressStyleModel",
          "model_module_version": "1.5.0",
          "state": {
            "_model_module": "@jupyter-widgets/controls",
            "_model_module_version": "1.5.0",
            "_model_name": "ProgressStyleModel",
            "_view_count": null,
            "_view_module": "@jupyter-widgets/base",
            "_view_module_version": "1.2.0",
            "_view_name": "StyleView",
            "bar_color": null,
            "description_width": ""
          }
        },
        "186c785c8f20416189e60fef392e89bf": {
          "model_module": "@jupyter-widgets/base",
          "model_name": "LayoutModel",
          "model_module_version": "1.2.0",
          "state": {
            "_model_module": "@jupyter-widgets/base",
            "_model_module_version": "1.2.0",
            "_model_name": "LayoutModel",
            "_view_count": null,
            "_view_module": "@jupyter-widgets/base",
            "_view_module_version": "1.2.0",
            "_view_name": "LayoutView",
            "align_content": null,
            "align_items": null,
            "align_self": null,
            "border": null,
            "bottom": null,
            "display": null,
            "flex": null,
            "flex_flow": null,
            "grid_area": null,
            "grid_auto_columns": null,
            "grid_auto_flow": null,
            "grid_auto_rows": null,
            "grid_column": null,
            "grid_gap": null,
            "grid_row": null,
            "grid_template_areas": null,
            "grid_template_columns": null,
            "grid_template_rows": null,
            "height": null,
            "justify_content": null,
            "justify_items": null,
            "left": null,
            "margin": null,
            "max_height": null,
            "max_width": null,
            "min_height": null,
            "min_width": null,
            "object_fit": null,
            "object_position": null,
            "order": null,
            "overflow": null,
            "overflow_x": null,
            "overflow_y": null,
            "padding": null,
            "right": null,
            "top": null,
            "visibility": null,
            "width": null
          }
        },
        "6be91123c347417d86902879a6a555c6": {
          "model_module": "@jupyter-widgets/controls",
          "model_name": "DescriptionStyleModel",
          "model_module_version": "1.5.0",
          "state": {
            "_model_module": "@jupyter-widgets/controls",
            "_model_module_version": "1.5.0",
            "_model_name": "DescriptionStyleModel",
            "_view_count": null,
            "_view_module": "@jupyter-widgets/base",
            "_view_module_version": "1.2.0",
            "_view_name": "StyleView",
            "description_width": ""
          }
        },
        "b21cccc4dc9c4784a81401236c4fb443": {
          "model_module": "@jupyter-widgets/controls",
          "model_name": "HBoxModel",
          "model_module_version": "1.5.0",
          "state": {
            "_dom_classes": [],
            "_model_module": "@jupyter-widgets/controls",
            "_model_module_version": "1.5.0",
            "_model_name": "HBoxModel",
            "_view_count": null,
            "_view_module": "@jupyter-widgets/controls",
            "_view_module_version": "1.5.0",
            "_view_name": "HBoxView",
            "box_style": "",
            "children": [
              "IPY_MODEL_3d122105411a4d83a41265fe44281156",
              "IPY_MODEL_b62500fdd37246ebb8bd422972f5df1a",
              "IPY_MODEL_3d841c4044bb42f99515fbe2ccf97c98"
            ],
            "layout": "IPY_MODEL_00ad3a7d681945b89b644c82f0122dab"
          }
        },
        "3d122105411a4d83a41265fe44281156": {
          "model_module": "@jupyter-widgets/controls",
          "model_name": "HTMLModel",
          "model_module_version": "1.5.0",
          "state": {
            "_dom_classes": [],
            "_model_module": "@jupyter-widgets/controls",
            "_model_module_version": "1.5.0",
            "_model_name": "HTMLModel",
            "_view_count": null,
            "_view_module": "@jupyter-widgets/controls",
            "_view_module_version": "1.5.0",
            "_view_name": "HTMLView",
            "description": "",
            "description_tooltip": null,
            "layout": "IPY_MODEL_b05144515c1044089920211873237d54",
            "placeholder": "​",
            "style": "IPY_MODEL_b6e2445fb0ae4cc1a5c27aece6eaf459",
            "value": "vocab.json: 100%"
          }
        },
        "b62500fdd37246ebb8bd422972f5df1a": {
          "model_module": "@jupyter-widgets/controls",
          "model_name": "FloatProgressModel",
          "model_module_version": "1.5.0",
          "state": {
            "_dom_classes": [],
            "_model_module": "@jupyter-widgets/controls",
            "_model_module_version": "1.5.0",
            "_model_name": "FloatProgressModel",
            "_view_count": null,
            "_view_module": "@jupyter-widgets/controls",
            "_view_module_version": "1.5.0",
            "_view_name": "ProgressView",
            "bar_style": "success",
            "description": "",
            "description_tooltip": null,
            "layout": "IPY_MODEL_19f9a1e8896f4d53b9c4381433a3b2a5",
            "max": 853770,
            "min": 0,
            "orientation": "horizontal",
            "style": "IPY_MODEL_5b11e22efb2e424faa28bdfc7db645df",
            "value": 853770
          }
        },
        "3d841c4044bb42f99515fbe2ccf97c98": {
          "model_module": "@jupyter-widgets/controls",
          "model_name": "HTMLModel",
          "model_module_version": "1.5.0",
          "state": {
            "_dom_classes": [],
            "_model_module": "@jupyter-widgets/controls",
            "_model_module_version": "1.5.0",
            "_model_name": "HTMLModel",
            "_view_count": null,
            "_view_module": "@jupyter-widgets/controls",
            "_view_module_version": "1.5.0",
            "_view_name": "HTMLView",
            "description": "",
            "description_tooltip": null,
            "layout": "IPY_MODEL_1c35bf7b428d43cb8dc89d04cca9192b",
            "placeholder": "​",
            "style": "IPY_MODEL_aae1ee0ce9914eb3821002e2707e5c0a",
            "value": " 854k/854k [00:00&lt;00:00, 3.43MB/s]"
          }
        },
        "00ad3a7d681945b89b644c82f0122dab": {
          "model_module": "@jupyter-widgets/base",
          "model_name": "LayoutModel",
          "model_module_version": "1.2.0",
          "state": {
            "_model_module": "@jupyter-widgets/base",
            "_model_module_version": "1.2.0",
            "_model_name": "LayoutModel",
            "_view_count": null,
            "_view_module": "@jupyter-widgets/base",
            "_view_module_version": "1.2.0",
            "_view_name": "LayoutView",
            "align_content": null,
            "align_items": null,
            "align_self": null,
            "border": null,
            "bottom": null,
            "display": null,
            "flex": null,
            "flex_flow": null,
            "grid_area": null,
            "grid_auto_columns": null,
            "grid_auto_flow": null,
            "grid_auto_rows": null,
            "grid_column": null,
            "grid_gap": null,
            "grid_row": null,
            "grid_template_areas": null,
            "grid_template_columns": null,
            "grid_template_rows": null,
            "height": null,
            "justify_content": null,
            "justify_items": null,
            "left": null,
            "margin": null,
            "max_height": null,
            "max_width": null,
            "min_height": null,
            "min_width": null,
            "object_fit": null,
            "object_position": null,
            "order": null,
            "overflow": null,
            "overflow_x": null,
            "overflow_y": null,
            "padding": null,
            "right": null,
            "top": null,
            "visibility": null,
            "width": null
          }
        },
        "b05144515c1044089920211873237d54": {
          "model_module": "@jupyter-widgets/base",
          "model_name": "LayoutModel",
          "model_module_version": "1.2.0",
          "state": {
            "_model_module": "@jupyter-widgets/base",
            "_model_module_version": "1.2.0",
            "_model_name": "LayoutModel",
            "_view_count": null,
            "_view_module": "@jupyter-widgets/base",
            "_view_module_version": "1.2.0",
            "_view_name": "LayoutView",
            "align_content": null,
            "align_items": null,
            "align_self": null,
            "border": null,
            "bottom": null,
            "display": null,
            "flex": null,
            "flex_flow": null,
            "grid_area": null,
            "grid_auto_columns": null,
            "grid_auto_flow": null,
            "grid_auto_rows": null,
            "grid_column": null,
            "grid_gap": null,
            "grid_row": null,
            "grid_template_areas": null,
            "grid_template_columns": null,
            "grid_template_rows": null,
            "height": null,
            "justify_content": null,
            "justify_items": null,
            "left": null,
            "margin": null,
            "max_height": null,
            "max_width": null,
            "min_height": null,
            "min_width": null,
            "object_fit": null,
            "object_position": null,
            "order": null,
            "overflow": null,
            "overflow_x": null,
            "overflow_y": null,
            "padding": null,
            "right": null,
            "top": null,
            "visibility": null,
            "width": null
          }
        },
        "b6e2445fb0ae4cc1a5c27aece6eaf459": {
          "model_module": "@jupyter-widgets/controls",
          "model_name": "DescriptionStyleModel",
          "model_module_version": "1.5.0",
          "state": {
            "_model_module": "@jupyter-widgets/controls",
            "_model_module_version": "1.5.0",
            "_model_name": "DescriptionStyleModel",
            "_view_count": null,
            "_view_module": "@jupyter-widgets/base",
            "_view_module_version": "1.2.0",
            "_view_name": "StyleView",
            "description_width": ""
          }
        },
        "19f9a1e8896f4d53b9c4381433a3b2a5": {
          "model_module": "@jupyter-widgets/base",
          "model_name": "LayoutModel",
          "model_module_version": "1.2.0",
          "state": {
            "_model_module": "@jupyter-widgets/base",
            "_model_module_version": "1.2.0",
            "_model_name": "LayoutModel",
            "_view_count": null,
            "_view_module": "@jupyter-widgets/base",
            "_view_module_version": "1.2.0",
            "_view_name": "LayoutView",
            "align_content": null,
            "align_items": null,
            "align_self": null,
            "border": null,
            "bottom": null,
            "display": null,
            "flex": null,
            "flex_flow": null,
            "grid_area": null,
            "grid_auto_columns": null,
            "grid_auto_flow": null,
            "grid_auto_rows": null,
            "grid_column": null,
            "grid_gap": null,
            "grid_row": null,
            "grid_template_areas": null,
            "grid_template_columns": null,
            "grid_template_rows": null,
            "height": null,
            "justify_content": null,
            "justify_items": null,
            "left": null,
            "margin": null,
            "max_height": null,
            "max_width": null,
            "min_height": null,
            "min_width": null,
            "object_fit": null,
            "object_position": null,
            "order": null,
            "overflow": null,
            "overflow_x": null,
            "overflow_y": null,
            "padding": null,
            "right": null,
            "top": null,
            "visibility": null,
            "width": null
          }
        },
        "5b11e22efb2e424faa28bdfc7db645df": {
          "model_module": "@jupyter-widgets/controls",
          "model_name": "ProgressStyleModel",
          "model_module_version": "1.5.0",
          "state": {
            "_model_module": "@jupyter-widgets/controls",
            "_model_module_version": "1.5.0",
            "_model_name": "ProgressStyleModel",
            "_view_count": null,
            "_view_module": "@jupyter-widgets/base",
            "_view_module_version": "1.2.0",
            "_view_name": "StyleView",
            "bar_color": null,
            "description_width": ""
          }
        },
        "1c35bf7b428d43cb8dc89d04cca9192b": {
          "model_module": "@jupyter-widgets/base",
          "model_name": "LayoutModel",
          "model_module_version": "1.2.0",
          "state": {
            "_model_module": "@jupyter-widgets/base",
            "_model_module_version": "1.2.0",
            "_model_name": "LayoutModel",
            "_view_count": null,
            "_view_module": "@jupyter-widgets/base",
            "_view_module_version": "1.2.0",
            "_view_name": "LayoutView",
            "align_content": null,
            "align_items": null,
            "align_self": null,
            "border": null,
            "bottom": null,
            "display": null,
            "flex": null,
            "flex_flow": null,
            "grid_area": null,
            "grid_auto_columns": null,
            "grid_auto_flow": null,
            "grid_auto_rows": null,
            "grid_column": null,
            "grid_gap": null,
            "grid_row": null,
            "grid_template_areas": null,
            "grid_template_columns": null,
            "grid_template_rows": null,
            "height": null,
            "justify_content": null,
            "justify_items": null,
            "left": null,
            "margin": null,
            "max_height": null,
            "max_width": null,
            "min_height": null,
            "min_width": null,
            "object_fit": null,
            "object_position": null,
            "order": null,
            "overflow": null,
            "overflow_x": null,
            "overflow_y": null,
            "padding": null,
            "right": null,
            "top": null,
            "visibility": null,
            "width": null
          }
        },
        "aae1ee0ce9914eb3821002e2707e5c0a": {
          "model_module": "@jupyter-widgets/controls",
          "model_name": "DescriptionStyleModel",
          "model_module_version": "1.5.0",
          "state": {
            "_model_module": "@jupyter-widgets/controls",
            "_model_module_version": "1.5.0",
            "_model_name": "DescriptionStyleModel",
            "_view_count": null,
            "_view_module": "@jupyter-widgets/base",
            "_view_module_version": "1.2.0",
            "_view_name": "StyleView",
            "description_width": ""
          }
        },
        "d828bc5274e842e885cc478be21e83a0": {
          "model_module": "@jupyter-widgets/controls",
          "model_name": "HBoxModel",
          "model_module_version": "1.5.0",
          "state": {
            "_dom_classes": [],
            "_model_module": "@jupyter-widgets/controls",
            "_model_module_version": "1.5.0",
            "_model_name": "HBoxModel",
            "_view_count": null,
            "_view_module": "@jupyter-widgets/controls",
            "_view_module_version": "1.5.0",
            "_view_name": "HBoxView",
            "box_style": "",
            "children": [
              "IPY_MODEL_ba27fa16e3e44622bb8286f14cbc5cbb",
              "IPY_MODEL_371624ce9629474cb9dc17049c8b98cb",
              "IPY_MODEL_3db1163afd3345cabb87b76156aac0e5"
            ],
            "layout": "IPY_MODEL_f63820f07f5d46c2adfe75192f4e8966"
          }
        },
        "ba27fa16e3e44622bb8286f14cbc5cbb": {
          "model_module": "@jupyter-widgets/controls",
          "model_name": "HTMLModel",
          "model_module_version": "1.5.0",
          "state": {
            "_dom_classes": [],
            "_model_module": "@jupyter-widgets/controls",
            "_model_module_version": "1.5.0",
            "_model_name": "HTMLModel",
            "_view_count": null,
            "_view_module": "@jupyter-widgets/controls",
            "_view_module_version": "1.5.0",
            "_view_name": "HTMLView",
            "description": "",
            "description_tooltip": null,
            "layout": "IPY_MODEL_9ee66abc16a24c6280f2e9f02c5a931e",
            "placeholder": "​",
            "style": "IPY_MODEL_c8ec3dd8c68b437f8b67de287ad81d2e",
            "value": "merges.txt: 100%"
          }
        },
        "371624ce9629474cb9dc17049c8b98cb": {
          "model_module": "@jupyter-widgets/controls",
          "model_name": "FloatProgressModel",
          "model_module_version": "1.5.0",
          "state": {
            "_dom_classes": [],
            "_model_module": "@jupyter-widgets/controls",
            "_model_module_version": "1.5.0",
            "_model_name": "FloatProgressModel",
            "_view_count": null,
            "_view_module": "@jupyter-widgets/controls",
            "_view_module_version": "1.5.0",
            "_view_name": "ProgressView",
            "bar_style": "success",
            "description": "",
            "description_tooltip": null,
            "layout": "IPY_MODEL_79c0e5023f2a47c382bedb36db890e76",
            "max": 512022,
            "min": 0,
            "orientation": "horizontal",
            "style": "IPY_MODEL_67024f64011f4326b1431e1446b49d97",
            "value": 512022
          }
        },
        "3db1163afd3345cabb87b76156aac0e5": {
          "model_module": "@jupyter-widgets/controls",
          "model_name": "HTMLModel",
          "model_module_version": "1.5.0",
          "state": {
            "_dom_classes": [],
            "_model_module": "@jupyter-widgets/controls",
            "_model_module_version": "1.5.0",
            "_model_name": "HTMLModel",
            "_view_count": null,
            "_view_module": "@jupyter-widgets/controls",
            "_view_module_version": "1.5.0",
            "_view_name": "HTMLView",
            "description": "",
            "description_tooltip": null,
            "layout": "IPY_MODEL_417bcc8a3d294d03a6242b23b0c8b411",
            "placeholder": "​",
            "style": "IPY_MODEL_ccef996f64ab4a56bce15c2bef2ab1ad",
            "value": " 512k/512k [00:00&lt;00:00, 2.66MB/s]"
          }
        },
        "f63820f07f5d46c2adfe75192f4e8966": {
          "model_module": "@jupyter-widgets/base",
          "model_name": "LayoutModel",
          "model_module_version": "1.2.0",
          "state": {
            "_model_module": "@jupyter-widgets/base",
            "_model_module_version": "1.2.0",
            "_model_name": "LayoutModel",
            "_view_count": null,
            "_view_module": "@jupyter-widgets/base",
            "_view_module_version": "1.2.0",
            "_view_name": "LayoutView",
            "align_content": null,
            "align_items": null,
            "align_self": null,
            "border": null,
            "bottom": null,
            "display": null,
            "flex": null,
            "flex_flow": null,
            "grid_area": null,
            "grid_auto_columns": null,
            "grid_auto_flow": null,
            "grid_auto_rows": null,
            "grid_column": null,
            "grid_gap": null,
            "grid_row": null,
            "grid_template_areas": null,
            "grid_template_columns": null,
            "grid_template_rows": null,
            "height": null,
            "justify_content": null,
            "justify_items": null,
            "left": null,
            "margin": null,
            "max_height": null,
            "max_width": null,
            "min_height": null,
            "min_width": null,
            "object_fit": null,
            "object_position": null,
            "order": null,
            "overflow": null,
            "overflow_x": null,
            "overflow_y": null,
            "padding": null,
            "right": null,
            "top": null,
            "visibility": null,
            "width": null
          }
        },
        "9ee66abc16a24c6280f2e9f02c5a931e": {
          "model_module": "@jupyter-widgets/base",
          "model_name": "LayoutModel",
          "model_module_version": "1.2.0",
          "state": {
            "_model_module": "@jupyter-widgets/base",
            "_model_module_version": "1.2.0",
            "_model_name": "LayoutModel",
            "_view_count": null,
            "_view_module": "@jupyter-widgets/base",
            "_view_module_version": "1.2.0",
            "_view_name": "LayoutView",
            "align_content": null,
            "align_items": null,
            "align_self": null,
            "border": null,
            "bottom": null,
            "display": null,
            "flex": null,
            "flex_flow": null,
            "grid_area": null,
            "grid_auto_columns": null,
            "grid_auto_flow": null,
            "grid_auto_rows": null,
            "grid_column": null,
            "grid_gap": null,
            "grid_row": null,
            "grid_template_areas": null,
            "grid_template_columns": null,
            "grid_template_rows": null,
            "height": null,
            "justify_content": null,
            "justify_items": null,
            "left": null,
            "margin": null,
            "max_height": null,
            "max_width": null,
            "min_height": null,
            "min_width": null,
            "object_fit": null,
            "object_position": null,
            "order": null,
            "overflow": null,
            "overflow_x": null,
            "overflow_y": null,
            "padding": null,
            "right": null,
            "top": null,
            "visibility": null,
            "width": null
          }
        },
        "c8ec3dd8c68b437f8b67de287ad81d2e": {
          "model_module": "@jupyter-widgets/controls",
          "model_name": "DescriptionStyleModel",
          "model_module_version": "1.5.0",
          "state": {
            "_model_module": "@jupyter-widgets/controls",
            "_model_module_version": "1.5.0",
            "_model_name": "DescriptionStyleModel",
            "_view_count": null,
            "_view_module": "@jupyter-widgets/base",
            "_view_module_version": "1.2.0",
            "_view_name": "StyleView",
            "description_width": ""
          }
        },
        "79c0e5023f2a47c382bedb36db890e76": {
          "model_module": "@jupyter-widgets/base",
          "model_name": "LayoutModel",
          "model_module_version": "1.2.0",
          "state": {
            "_model_module": "@jupyter-widgets/base",
            "_model_module_version": "1.2.0",
            "_model_name": "LayoutModel",
            "_view_count": null,
            "_view_module": "@jupyter-widgets/base",
            "_view_module_version": "1.2.0",
            "_view_name": "LayoutView",
            "align_content": null,
            "align_items": null,
            "align_self": null,
            "border": null,
            "bottom": null,
            "display": null,
            "flex": null,
            "flex_flow": null,
            "grid_area": null,
            "grid_auto_columns": null,
            "grid_auto_flow": null,
            "grid_auto_rows": null,
            "grid_column": null,
            "grid_gap": null,
            "grid_row": null,
            "grid_template_areas": null,
            "grid_template_columns": null,
            "grid_template_rows": null,
            "height": null,
            "justify_content": null,
            "justify_items": null,
            "left": null,
            "margin": null,
            "max_height": null,
            "max_width": null,
            "min_height": null,
            "min_width": null,
            "object_fit": null,
            "object_position": null,
            "order": null,
            "overflow": null,
            "overflow_x": null,
            "overflow_y": null,
            "padding": null,
            "right": null,
            "top": null,
            "visibility": null,
            "width": null
          }
        },
        "67024f64011f4326b1431e1446b49d97": {
          "model_module": "@jupyter-widgets/controls",
          "model_name": "ProgressStyleModel",
          "model_module_version": "1.5.0",
          "state": {
            "_model_module": "@jupyter-widgets/controls",
            "_model_module_version": "1.5.0",
            "_model_name": "ProgressStyleModel",
            "_view_count": null,
            "_view_module": "@jupyter-widgets/base",
            "_view_module_version": "1.2.0",
            "_view_name": "StyleView",
            "bar_color": null,
            "description_width": ""
          }
        },
        "417bcc8a3d294d03a6242b23b0c8b411": {
          "model_module": "@jupyter-widgets/base",
          "model_name": "LayoutModel",
          "model_module_version": "1.2.0",
          "state": {
            "_model_module": "@jupyter-widgets/base",
            "_model_module_version": "1.2.0",
            "_model_name": "LayoutModel",
            "_view_count": null,
            "_view_module": "@jupyter-widgets/base",
            "_view_module_version": "1.2.0",
            "_view_name": "LayoutView",
            "align_content": null,
            "align_items": null,
            "align_self": null,
            "border": null,
            "bottom": null,
            "display": null,
            "flex": null,
            "flex_flow": null,
            "grid_area": null,
            "grid_auto_columns": null,
            "grid_auto_flow": null,
            "grid_auto_rows": null,
            "grid_column": null,
            "grid_gap": null,
            "grid_row": null,
            "grid_template_areas": null,
            "grid_template_columns": null,
            "grid_template_rows": null,
            "height": null,
            "justify_content": null,
            "justify_items": null,
            "left": null,
            "margin": null,
            "max_height": null,
            "max_width": null,
            "min_height": null,
            "min_width": null,
            "object_fit": null,
            "object_position": null,
            "order": null,
            "overflow": null,
            "overflow_x": null,
            "overflow_y": null,
            "padding": null,
            "right": null,
            "top": null,
            "visibility": null,
            "width": null
          }
        },
        "ccef996f64ab4a56bce15c2bef2ab1ad": {
          "model_module": "@jupyter-widgets/controls",
          "model_name": "DescriptionStyleModel",
          "model_module_version": "1.5.0",
          "state": {
            "_model_module": "@jupyter-widgets/controls",
            "_model_module_version": "1.5.0",
            "_model_name": "DescriptionStyleModel",
            "_view_count": null,
            "_view_module": "@jupyter-widgets/base",
            "_view_module_version": "1.2.0",
            "_view_name": "StyleView",
            "description_width": ""
          }
        },
        "c935d31ff3364b5dbea6d0ea80dd17b3": {
          "model_module": "@jupyter-widgets/controls",
          "model_name": "HBoxModel",
          "model_module_version": "1.5.0",
          "state": {
            "_dom_classes": [],
            "_model_module": "@jupyter-widgets/controls",
            "_model_module_version": "1.5.0",
            "_model_name": "HBoxModel",
            "_view_count": null,
            "_view_module": "@jupyter-widgets/controls",
            "_view_module_version": "1.5.0",
            "_view_name": "HBoxView",
            "box_style": "",
            "children": [
              "IPY_MODEL_fb88cf84fb5c4b428afe5f9eed886d4f",
              "IPY_MODEL_31e3d9f0bde94e319de26a6865c62cac",
              "IPY_MODEL_b1d2797762a64fd29af566ecd0c3d6cd"
            ],
            "layout": "IPY_MODEL_c717178068844d0689658dd89188d81c"
          }
        },
        "fb88cf84fb5c4b428afe5f9eed886d4f": {
          "model_module": "@jupyter-widgets/controls",
          "model_name": "HTMLModel",
          "model_module_version": "1.5.0",
          "state": {
            "_dom_classes": [],
            "_model_module": "@jupyter-widgets/controls",
            "_model_module_version": "1.5.0",
            "_model_name": "HTMLModel",
            "_view_count": null,
            "_view_module": "@jupyter-widgets/controls",
            "_view_module_version": "1.5.0",
            "_view_name": "HTMLView",
            "description": "",
            "description_tooltip": null,
            "layout": "IPY_MODEL_b5cc6fb7d2344abd9fb9dc098ab7e3a8",
            "placeholder": "​",
            "style": "IPY_MODEL_d989007fe38e42d88dd1745bd6220ed0",
            "value": "tokenizer.json: 100%"
          }
        },
        "31e3d9f0bde94e319de26a6865c62cac": {
          "model_module": "@jupyter-widgets/controls",
          "model_name": "FloatProgressModel",
          "model_module_version": "1.5.0",
          "state": {
            "_dom_classes": [],
            "_model_module": "@jupyter-widgets/controls",
            "_model_module_version": "1.5.0",
            "_model_name": "FloatProgressModel",
            "_view_count": null,
            "_view_module": "@jupyter-widgets/controls",
            "_view_module_version": "1.5.0",
            "_view_name": "ProgressView",
            "bar_style": "success",
            "description": "",
            "description_tooltip": null,
            "layout": "IPY_MODEL_853352e57b654fcab1108a2708d80ac8",
            "max": 2219686,
            "min": 0,
            "orientation": "horizontal",
            "style": "IPY_MODEL_3058c1e8c6974167a0fbc2428e57ba25",
            "value": 2219686
          }
        },
        "b1d2797762a64fd29af566ecd0c3d6cd": {
          "model_module": "@jupyter-widgets/controls",
          "model_name": "HTMLModel",
          "model_module_version": "1.5.0",
          "state": {
            "_dom_classes": [],
            "_model_module": "@jupyter-widgets/controls",
            "_model_module_version": "1.5.0",
            "_model_name": "HTMLModel",
            "_view_count": null,
            "_view_module": "@jupyter-widgets/controls",
            "_view_module_version": "1.5.0",
            "_view_name": "HTMLView",
            "description": "",
            "description_tooltip": null,
            "layout": "IPY_MODEL_3a83347269684961acb4e868953eb7f8",
            "placeholder": "​",
            "style": "IPY_MODEL_4096fc06cde444aea60867180c66bec9",
            "value": " 2.22M/2.22M [00:00&lt;00:00, 28.3MB/s]"
          }
        },
        "c717178068844d0689658dd89188d81c": {
          "model_module": "@jupyter-widgets/base",
          "model_name": "LayoutModel",
          "model_module_version": "1.2.0",
          "state": {
            "_model_module": "@jupyter-widgets/base",
            "_model_module_version": "1.2.0",
            "_model_name": "LayoutModel",
            "_view_count": null,
            "_view_module": "@jupyter-widgets/base",
            "_view_module_version": "1.2.0",
            "_view_name": "LayoutView",
            "align_content": null,
            "align_items": null,
            "align_self": null,
            "border": null,
            "bottom": null,
            "display": null,
            "flex": null,
            "flex_flow": null,
            "grid_area": null,
            "grid_auto_columns": null,
            "grid_auto_flow": null,
            "grid_auto_rows": null,
            "grid_column": null,
            "grid_gap": null,
            "grid_row": null,
            "grid_template_areas": null,
            "grid_template_columns": null,
            "grid_template_rows": null,
            "height": null,
            "justify_content": null,
            "justify_items": null,
            "left": null,
            "margin": null,
            "max_height": null,
            "max_width": null,
            "min_height": null,
            "min_width": null,
            "object_fit": null,
            "object_position": null,
            "order": null,
            "overflow": null,
            "overflow_x": null,
            "overflow_y": null,
            "padding": null,
            "right": null,
            "top": null,
            "visibility": null,
            "width": null
          }
        },
        "b5cc6fb7d2344abd9fb9dc098ab7e3a8": {
          "model_module": "@jupyter-widgets/base",
          "model_name": "LayoutModel",
          "model_module_version": "1.2.0",
          "state": {
            "_model_module": "@jupyter-widgets/base",
            "_model_module_version": "1.2.0",
            "_model_name": "LayoutModel",
            "_view_count": null,
            "_view_module": "@jupyter-widgets/base",
            "_view_module_version": "1.2.0",
            "_view_name": "LayoutView",
            "align_content": null,
            "align_items": null,
            "align_self": null,
            "border": null,
            "bottom": null,
            "display": null,
            "flex": null,
            "flex_flow": null,
            "grid_area": null,
            "grid_auto_columns": null,
            "grid_auto_flow": null,
            "grid_auto_rows": null,
            "grid_column": null,
            "grid_gap": null,
            "grid_row": null,
            "grid_template_areas": null,
            "grid_template_columns": null,
            "grid_template_rows": null,
            "height": null,
            "justify_content": null,
            "justify_items": null,
            "left": null,
            "margin": null,
            "max_height": null,
            "max_width": null,
            "min_height": null,
            "min_width": null,
            "object_fit": null,
            "object_position": null,
            "order": null,
            "overflow": null,
            "overflow_x": null,
            "overflow_y": null,
            "padding": null,
            "right": null,
            "top": null,
            "visibility": null,
            "width": null
          }
        },
        "d989007fe38e42d88dd1745bd6220ed0": {
          "model_module": "@jupyter-widgets/controls",
          "model_name": "DescriptionStyleModel",
          "model_module_version": "1.5.0",
          "state": {
            "_model_module": "@jupyter-widgets/controls",
            "_model_module_version": "1.5.0",
            "_model_name": "DescriptionStyleModel",
            "_view_count": null,
            "_view_module": "@jupyter-widgets/base",
            "_view_module_version": "1.2.0",
            "_view_name": "StyleView",
            "description_width": ""
          }
        },
        "853352e57b654fcab1108a2708d80ac8": {
          "model_module": "@jupyter-widgets/base",
          "model_name": "LayoutModel",
          "model_module_version": "1.2.0",
          "state": {
            "_model_module": "@jupyter-widgets/base",
            "_model_module_version": "1.2.0",
            "_model_name": "LayoutModel",
            "_view_count": null,
            "_view_module": "@jupyter-widgets/base",
            "_view_module_version": "1.2.0",
            "_view_name": "LayoutView",
            "align_content": null,
            "align_items": null,
            "align_self": null,
            "border": null,
            "bottom": null,
            "display": null,
            "flex": null,
            "flex_flow": null,
            "grid_area": null,
            "grid_auto_columns": null,
            "grid_auto_flow": null,
            "grid_auto_rows": null,
            "grid_column": null,
            "grid_gap": null,
            "grid_row": null,
            "grid_template_areas": null,
            "grid_template_columns": null,
            "grid_template_rows": null,
            "height": null,
            "justify_content": null,
            "justify_items": null,
            "left": null,
            "margin": null,
            "max_height": null,
            "max_width": null,
            "min_height": null,
            "min_width": null,
            "object_fit": null,
            "object_position": null,
            "order": null,
            "overflow": null,
            "overflow_x": null,
            "overflow_y": null,
            "padding": null,
            "right": null,
            "top": null,
            "visibility": null,
            "width": null
          }
        },
        "3058c1e8c6974167a0fbc2428e57ba25": {
          "model_module": "@jupyter-widgets/controls",
          "model_name": "ProgressStyleModel",
          "model_module_version": "1.5.0",
          "state": {
            "_model_module": "@jupyter-widgets/controls",
            "_model_module_version": "1.5.0",
            "_model_name": "ProgressStyleModel",
            "_view_count": null,
            "_view_module": "@jupyter-widgets/base",
            "_view_module_version": "1.2.0",
            "_view_name": "StyleView",
            "bar_color": null,
            "description_width": ""
          }
        },
        "3a83347269684961acb4e868953eb7f8": {
          "model_module": "@jupyter-widgets/base",
          "model_name": "LayoutModel",
          "model_module_version": "1.2.0",
          "state": {
            "_model_module": "@jupyter-widgets/base",
            "_model_module_version": "1.2.0",
            "_model_name": "LayoutModel",
            "_view_count": null,
            "_view_module": "@jupyter-widgets/base",
            "_view_module_version": "1.2.0",
            "_view_name": "LayoutView",
            "align_content": null,
            "align_items": null,
            "align_self": null,
            "border": null,
            "bottom": null,
            "display": null,
            "flex": null,
            "flex_flow": null,
            "grid_area": null,
            "grid_auto_columns": null,
            "grid_auto_flow": null,
            "grid_auto_rows": null,
            "grid_column": null,
            "grid_gap": null,
            "grid_row": null,
            "grid_template_areas": null,
            "grid_template_columns": null,
            "grid_template_rows": null,
            "height": null,
            "justify_content": null,
            "justify_items": null,
            "left": null,
            "margin": null,
            "max_height": null,
            "max_width": null,
            "min_height": null,
            "min_width": null,
            "object_fit": null,
            "object_position": null,
            "order": null,
            "overflow": null,
            "overflow_x": null,
            "overflow_y": null,
            "padding": null,
            "right": null,
            "top": null,
            "visibility": null,
            "width": null
          }
        },
        "4096fc06cde444aea60867180c66bec9": {
          "model_module": "@jupyter-widgets/controls",
          "model_name": "DescriptionStyleModel",
          "model_module_version": "1.5.0",
          "state": {
            "_model_module": "@jupyter-widgets/controls",
            "_model_module_version": "1.5.0",
            "_model_name": "DescriptionStyleModel",
            "_view_count": null,
            "_view_module": "@jupyter-widgets/base",
            "_view_module_version": "1.2.0",
            "_view_name": "StyleView",
            "description_width": ""
          }
        },
        "50942ac4b89b42a4a79623501e0841a7": {
          "model_module": "@jupyter-widgets/controls",
          "model_name": "HBoxModel",
          "model_module_version": "1.5.0",
          "state": {
            "_dom_classes": [],
            "_model_module": "@jupyter-widgets/controls",
            "_model_module_version": "1.5.0",
            "_model_name": "HBoxModel",
            "_view_count": null,
            "_view_module": "@jupyter-widgets/controls",
            "_view_module_version": "1.5.0",
            "_view_name": "HBoxView",
            "box_style": "",
            "children": [
              "IPY_MODEL_8653150b01764861ba7ec274e7ecf933",
              "IPY_MODEL_4728689042c745ee86e00772a191c6db",
              "IPY_MODEL_6ba5217582e946b8b8b0ae040eab1c8e"
            ],
            "layout": "IPY_MODEL_6c2f97ef98a7469795b589d56eefc78d"
          }
        },
        "8653150b01764861ba7ec274e7ecf933": {
          "model_module": "@jupyter-widgets/controls",
          "model_name": "HTMLModel",
          "model_module_version": "1.5.0",
          "state": {
            "_dom_classes": [],
            "_model_module": "@jupyter-widgets/controls",
            "_model_module_version": "1.5.0",
            "_model_name": "HTMLModel",
            "_view_count": null,
            "_view_module": "@jupyter-widgets/controls",
            "_view_module_version": "1.5.0",
            "_view_name": "HTMLView",
            "description": "",
            "description_tooltip": null,
            "layout": "IPY_MODEL_a780990ce7ec4168943e05a082567124",
            "placeholder": "​",
            "style": "IPY_MODEL_da256a26d1c941f0a9f14e859061b0e0",
            "value": "added_tokens.json: 100%"
          }
        },
        "4728689042c745ee86e00772a191c6db": {
          "model_module": "@jupyter-widgets/controls",
          "model_name": "FloatProgressModel",
          "model_module_version": "1.5.0",
          "state": {
            "_dom_classes": [],
            "_model_module": "@jupyter-widgets/controls",
            "_model_module_version": "1.5.0",
            "_model_name": "FloatProgressModel",
            "_view_count": null,
            "_view_module": "@jupyter-widgets/controls",
            "_view_module_version": "1.5.0",
            "_view_name": "ProgressView",
            "bar_style": "success",
            "description": "",
            "description_tooltip": null,
            "layout": "IPY_MODEL_b0e3a61469c4497a8ec8029df5fb6d5d",
            "max": 24,
            "min": 0,
            "orientation": "horizontal",
            "style": "IPY_MODEL_9930903f0a8e44cea310f9a0a920113c",
            "value": 24
          }
        },
        "6ba5217582e946b8b8b0ae040eab1c8e": {
          "model_module": "@jupyter-widgets/controls",
          "model_name": "HTMLModel",
          "model_module_version": "1.5.0",
          "state": {
            "_dom_classes": [],
            "_model_module": "@jupyter-widgets/controls",
            "_model_module_version": "1.5.0",
            "_model_name": "HTMLModel",
            "_view_count": null,
            "_view_module": "@jupyter-widgets/controls",
            "_view_module_version": "1.5.0",
            "_view_name": "HTMLView",
            "description": "",
            "description_tooltip": null,
            "layout": "IPY_MODEL_e1edbe8d806d4cd0b8572b2bc4bdddcb",
            "placeholder": "​",
            "style": "IPY_MODEL_0a82771dfc1c4e229419de84d6f3e241",
            "value": " 24.0/24.0 [00:00&lt;00:00, 766B/s]"
          }
        },
        "6c2f97ef98a7469795b589d56eefc78d": {
          "model_module": "@jupyter-widgets/base",
          "model_name": "LayoutModel",
          "model_module_version": "1.2.0",
          "state": {
            "_model_module": "@jupyter-widgets/base",
            "_model_module_version": "1.2.0",
            "_model_name": "LayoutModel",
            "_view_count": null,
            "_view_module": "@jupyter-widgets/base",
            "_view_module_version": "1.2.0",
            "_view_name": "LayoutView",
            "align_content": null,
            "align_items": null,
            "align_self": null,
            "border": null,
            "bottom": null,
            "display": null,
            "flex": null,
            "flex_flow": null,
            "grid_area": null,
            "grid_auto_columns": null,
            "grid_auto_flow": null,
            "grid_auto_rows": null,
            "grid_column": null,
            "grid_gap": null,
            "grid_row": null,
            "grid_template_areas": null,
            "grid_template_columns": null,
            "grid_template_rows": null,
            "height": null,
            "justify_content": null,
            "justify_items": null,
            "left": null,
            "margin": null,
            "max_height": null,
            "max_width": null,
            "min_height": null,
            "min_width": null,
            "object_fit": null,
            "object_position": null,
            "order": null,
            "overflow": null,
            "overflow_x": null,
            "overflow_y": null,
            "padding": null,
            "right": null,
            "top": null,
            "visibility": null,
            "width": null
          }
        },
        "a780990ce7ec4168943e05a082567124": {
          "model_module": "@jupyter-widgets/base",
          "model_name": "LayoutModel",
          "model_module_version": "1.2.0",
          "state": {
            "_model_module": "@jupyter-widgets/base",
            "_model_module_version": "1.2.0",
            "_model_name": "LayoutModel",
            "_view_count": null,
            "_view_module": "@jupyter-widgets/base",
            "_view_module_version": "1.2.0",
            "_view_name": "LayoutView",
            "align_content": null,
            "align_items": null,
            "align_self": null,
            "border": null,
            "bottom": null,
            "display": null,
            "flex": null,
            "flex_flow": null,
            "grid_area": null,
            "grid_auto_columns": null,
            "grid_auto_flow": null,
            "grid_auto_rows": null,
            "grid_column": null,
            "grid_gap": null,
            "grid_row": null,
            "grid_template_areas": null,
            "grid_template_columns": null,
            "grid_template_rows": null,
            "height": null,
            "justify_content": null,
            "justify_items": null,
            "left": null,
            "margin": null,
            "max_height": null,
            "max_width": null,
            "min_height": null,
            "min_width": null,
            "object_fit": null,
            "object_position": null,
            "order": null,
            "overflow": null,
            "overflow_x": null,
            "overflow_y": null,
            "padding": null,
            "right": null,
            "top": null,
            "visibility": null,
            "width": null
          }
        },
        "da256a26d1c941f0a9f14e859061b0e0": {
          "model_module": "@jupyter-widgets/controls",
          "model_name": "DescriptionStyleModel",
          "model_module_version": "1.5.0",
          "state": {
            "_model_module": "@jupyter-widgets/controls",
            "_model_module_version": "1.5.0",
            "_model_name": "DescriptionStyleModel",
            "_view_count": null,
            "_view_module": "@jupyter-widgets/base",
            "_view_module_version": "1.2.0",
            "_view_name": "StyleView",
            "description_width": ""
          }
        },
        "b0e3a61469c4497a8ec8029df5fb6d5d": {
          "model_module": "@jupyter-widgets/base",
          "model_name": "LayoutModel",
          "model_module_version": "1.2.0",
          "state": {
            "_model_module": "@jupyter-widgets/base",
            "_model_module_version": "1.2.0",
            "_model_name": "LayoutModel",
            "_view_count": null,
            "_view_module": "@jupyter-widgets/base",
            "_view_module_version": "1.2.0",
            "_view_name": "LayoutView",
            "align_content": null,
            "align_items": null,
            "align_self": null,
            "border": null,
            "bottom": null,
            "display": null,
            "flex": null,
            "flex_flow": null,
            "grid_area": null,
            "grid_auto_columns": null,
            "grid_auto_flow": null,
            "grid_auto_rows": null,
            "grid_column": null,
            "grid_gap": null,
            "grid_row": null,
            "grid_template_areas": null,
            "grid_template_columns": null,
            "grid_template_rows": null,
            "height": null,
            "justify_content": null,
            "justify_items": null,
            "left": null,
            "margin": null,
            "max_height": null,
            "max_width": null,
            "min_height": null,
            "min_width": null,
            "object_fit": null,
            "object_position": null,
            "order": null,
            "overflow": null,
            "overflow_x": null,
            "overflow_y": null,
            "padding": null,
            "right": null,
            "top": null,
            "visibility": null,
            "width": null
          }
        },
        "9930903f0a8e44cea310f9a0a920113c": {
          "model_module": "@jupyter-widgets/controls",
          "model_name": "ProgressStyleModel",
          "model_module_version": "1.5.0",
          "state": {
            "_model_module": "@jupyter-widgets/controls",
            "_model_module_version": "1.5.0",
            "_model_name": "ProgressStyleModel",
            "_view_count": null,
            "_view_module": "@jupyter-widgets/base",
            "_view_module_version": "1.2.0",
            "_view_name": "StyleView",
            "bar_color": null,
            "description_width": ""
          }
        },
        "e1edbe8d806d4cd0b8572b2bc4bdddcb": {
          "model_module": "@jupyter-widgets/base",
          "model_name": "LayoutModel",
          "model_module_version": "1.2.0",
          "state": {
            "_model_module": "@jupyter-widgets/base",
            "_model_module_version": "1.2.0",
            "_model_name": "LayoutModel",
            "_view_count": null,
            "_view_module": "@jupyter-widgets/base",
            "_view_module_version": "1.2.0",
            "_view_name": "LayoutView",
            "align_content": null,
            "align_items": null,
            "align_self": null,
            "border": null,
            "bottom": null,
            "display": null,
            "flex": null,
            "flex_flow": null,
            "grid_area": null,
            "grid_auto_columns": null,
            "grid_auto_flow": null,
            "grid_auto_rows": null,
            "grid_column": null,
            "grid_gap": null,
            "grid_row": null,
            "grid_template_areas": null,
            "grid_template_columns": null,
            "grid_template_rows": null,
            "height": null,
            "justify_content": null,
            "justify_items": null,
            "left": null,
            "margin": null,
            "max_height": null,
            "max_width": null,
            "min_height": null,
            "min_width": null,
            "object_fit": null,
            "object_position": null,
            "order": null,
            "overflow": null,
            "overflow_x": null,
            "overflow_y": null,
            "padding": null,
            "right": null,
            "top": null,
            "visibility": null,
            "width": null
          }
        },
        "0a82771dfc1c4e229419de84d6f3e241": {
          "model_module": "@jupyter-widgets/controls",
          "model_name": "DescriptionStyleModel",
          "model_module_version": "1.5.0",
          "state": {
            "_model_module": "@jupyter-widgets/controls",
            "_model_module_version": "1.5.0",
            "_model_name": "DescriptionStyleModel",
            "_view_count": null,
            "_view_module": "@jupyter-widgets/base",
            "_view_module_version": "1.2.0",
            "_view_name": "StyleView",
            "description_width": ""
          }
        },
        "b0e17860342d482f83845003e30400bf": {
          "model_module": "@jupyter-widgets/controls",
          "model_name": "HBoxModel",
          "model_module_version": "1.5.0",
          "state": {
            "_dom_classes": [],
            "_model_module": "@jupyter-widgets/controls",
            "_model_module_version": "1.5.0",
            "_model_name": "HBoxModel",
            "_view_count": null,
            "_view_module": "@jupyter-widgets/controls",
            "_view_module_version": "1.5.0",
            "_view_name": "HBoxView",
            "box_style": "",
            "children": [
              "IPY_MODEL_ed37970e327f4e86b6145e8b0e9ee3f8",
              "IPY_MODEL_d93a7e5c836846309c4c488d03be6bed",
              "IPY_MODEL_240c26d6c213421ca7060b85dd6a4610"
            ],
            "layout": "IPY_MODEL_071457c6887f4f3b88a0a71acd00a3ae"
          }
        },
        "ed37970e327f4e86b6145e8b0e9ee3f8": {
          "model_module": "@jupyter-widgets/controls",
          "model_name": "HTMLModel",
          "model_module_version": "1.5.0",
          "state": {
            "_dom_classes": [],
            "_model_module": "@jupyter-widgets/controls",
            "_model_module_version": "1.5.0",
            "_model_name": "HTMLModel",
            "_view_count": null,
            "_view_module": "@jupyter-widgets/controls",
            "_view_module_version": "1.5.0",
            "_view_name": "HTMLView",
            "description": "",
            "description_tooltip": null,
            "layout": "IPY_MODEL_d953dc67825d49b785ec465e5d02d1e8",
            "placeholder": "​",
            "style": "IPY_MODEL_c010115367e14dfbae030f2471d7e275",
            "value": "special_tokens_map.json: 100%"
          }
        },
        "d93a7e5c836846309c4c488d03be6bed": {
          "model_module": "@jupyter-widgets/controls",
          "model_name": "FloatProgressModel",
          "model_module_version": "1.5.0",
          "state": {
            "_dom_classes": [],
            "_model_module": "@jupyter-widgets/controls",
            "_model_module_version": "1.5.0",
            "_model_name": "FloatProgressModel",
            "_view_count": null,
            "_view_module": "@jupyter-widgets/controls",
            "_view_module_version": "1.5.0",
            "_view_name": "ProgressView",
            "bar_style": "success",
            "description": "",
            "description_tooltip": null,
            "layout": "IPY_MODEL_9b11f9c808464b6ead11f02ebc7d8933",
            "max": 90,
            "min": 0,
            "orientation": "horizontal",
            "style": "IPY_MODEL_4f7a32cdcc274f56b7195f8da43d9f75",
            "value": 90
          }
        },
        "240c26d6c213421ca7060b85dd6a4610": {
          "model_module": "@jupyter-widgets/controls",
          "model_name": "HTMLModel",
          "model_module_version": "1.5.0",
          "state": {
            "_dom_classes": [],
            "_model_module": "@jupyter-widgets/controls",
            "_model_module_version": "1.5.0",
            "_model_name": "HTMLModel",
            "_view_count": null,
            "_view_module": "@jupyter-widgets/controls",
            "_view_module_version": "1.5.0",
            "_view_name": "HTMLView",
            "description": "",
            "description_tooltip": null,
            "layout": "IPY_MODEL_41479130f0ed4367b9b307fa6efded00",
            "placeholder": "​",
            "style": "IPY_MODEL_db61c300c26f4e1a9a9580ae60612307",
            "value": " 90.0/90.0 [00:00&lt;00:00, 5.37kB/s]"
          }
        },
        "071457c6887f4f3b88a0a71acd00a3ae": {
          "model_module": "@jupyter-widgets/base",
          "model_name": "LayoutModel",
          "model_module_version": "1.2.0",
          "state": {
            "_model_module": "@jupyter-widgets/base",
            "_model_module_version": "1.2.0",
            "_model_name": "LayoutModel",
            "_view_count": null,
            "_view_module": "@jupyter-widgets/base",
            "_view_module_version": "1.2.0",
            "_view_name": "LayoutView",
            "align_content": null,
            "align_items": null,
            "align_self": null,
            "border": null,
            "bottom": null,
            "display": null,
            "flex": null,
            "flex_flow": null,
            "grid_area": null,
            "grid_auto_columns": null,
            "grid_auto_flow": null,
            "grid_auto_rows": null,
            "grid_column": null,
            "grid_gap": null,
            "grid_row": null,
            "grid_template_areas": null,
            "grid_template_columns": null,
            "grid_template_rows": null,
            "height": null,
            "justify_content": null,
            "justify_items": null,
            "left": null,
            "margin": null,
            "max_height": null,
            "max_width": null,
            "min_height": null,
            "min_width": null,
            "object_fit": null,
            "object_position": null,
            "order": null,
            "overflow": null,
            "overflow_x": null,
            "overflow_y": null,
            "padding": null,
            "right": null,
            "top": null,
            "visibility": null,
            "width": null
          }
        },
        "d953dc67825d49b785ec465e5d02d1e8": {
          "model_module": "@jupyter-widgets/base",
          "model_name": "LayoutModel",
          "model_module_version": "1.2.0",
          "state": {
            "_model_module": "@jupyter-widgets/base",
            "_model_module_version": "1.2.0",
            "_model_name": "LayoutModel",
            "_view_count": null,
            "_view_module": "@jupyter-widgets/base",
            "_view_module_version": "1.2.0",
            "_view_name": "LayoutView",
            "align_content": null,
            "align_items": null,
            "align_self": null,
            "border": null,
            "bottom": null,
            "display": null,
            "flex": null,
            "flex_flow": null,
            "grid_area": null,
            "grid_auto_columns": null,
            "grid_auto_flow": null,
            "grid_auto_rows": null,
            "grid_column": null,
            "grid_gap": null,
            "grid_row": null,
            "grid_template_areas": null,
            "grid_template_columns": null,
            "grid_template_rows": null,
            "height": null,
            "justify_content": null,
            "justify_items": null,
            "left": null,
            "margin": null,
            "max_height": null,
            "max_width": null,
            "min_height": null,
            "min_width": null,
            "object_fit": null,
            "object_position": null,
            "order": null,
            "overflow": null,
            "overflow_x": null,
            "overflow_y": null,
            "padding": null,
            "right": null,
            "top": null,
            "visibility": null,
            "width": null
          }
        },
        "c010115367e14dfbae030f2471d7e275": {
          "model_module": "@jupyter-widgets/controls",
          "model_name": "DescriptionStyleModel",
          "model_module_version": "1.5.0",
          "state": {
            "_model_module": "@jupyter-widgets/controls",
            "_model_module_version": "1.5.0",
            "_model_name": "DescriptionStyleModel",
            "_view_count": null,
            "_view_module": "@jupyter-widgets/base",
            "_view_module_version": "1.2.0",
            "_view_name": "StyleView",
            "description_width": ""
          }
        },
        "9b11f9c808464b6ead11f02ebc7d8933": {
          "model_module": "@jupyter-widgets/base",
          "model_name": "LayoutModel",
          "model_module_version": "1.2.0",
          "state": {
            "_model_module": "@jupyter-widgets/base",
            "_model_module_version": "1.2.0",
            "_model_name": "LayoutModel",
            "_view_count": null,
            "_view_module": "@jupyter-widgets/base",
            "_view_module_version": "1.2.0",
            "_view_name": "LayoutView",
            "align_content": null,
            "align_items": null,
            "align_self": null,
            "border": null,
            "bottom": null,
            "display": null,
            "flex": null,
            "flex_flow": null,
            "grid_area": null,
            "grid_auto_columns": null,
            "grid_auto_flow": null,
            "grid_auto_rows": null,
            "grid_column": null,
            "grid_gap": null,
            "grid_row": null,
            "grid_template_areas": null,
            "grid_template_columns": null,
            "grid_template_rows": null,
            "height": null,
            "justify_content": null,
            "justify_items": null,
            "left": null,
            "margin": null,
            "max_height": null,
            "max_width": null,
            "min_height": null,
            "min_width": null,
            "object_fit": null,
            "object_position": null,
            "order": null,
            "overflow": null,
            "overflow_x": null,
            "overflow_y": null,
            "padding": null,
            "right": null,
            "top": null,
            "visibility": null,
            "width": null
          }
        },
        "4f7a32cdcc274f56b7195f8da43d9f75": {
          "model_module": "@jupyter-widgets/controls",
          "model_name": "ProgressStyleModel",
          "model_module_version": "1.5.0",
          "state": {
            "_model_module": "@jupyter-widgets/controls",
            "_model_module_version": "1.5.0",
            "_model_name": "ProgressStyleModel",
            "_view_count": null,
            "_view_module": "@jupyter-widgets/base",
            "_view_module_version": "1.2.0",
            "_view_name": "StyleView",
            "bar_color": null,
            "description_width": ""
          }
        },
        "41479130f0ed4367b9b307fa6efded00": {
          "model_module": "@jupyter-widgets/base",
          "model_name": "LayoutModel",
          "model_module_version": "1.2.0",
          "state": {
            "_model_module": "@jupyter-widgets/base",
            "_model_module_version": "1.2.0",
            "_model_name": "LayoutModel",
            "_view_count": null,
            "_view_module": "@jupyter-widgets/base",
            "_view_module_version": "1.2.0",
            "_view_name": "LayoutView",
            "align_content": null,
            "align_items": null,
            "align_self": null,
            "border": null,
            "bottom": null,
            "display": null,
            "flex": null,
            "flex_flow": null,
            "grid_area": null,
            "grid_auto_columns": null,
            "grid_auto_flow": null,
            "grid_auto_rows": null,
            "grid_column": null,
            "grid_gap": null,
            "grid_row": null,
            "grid_template_areas": null,
            "grid_template_columns": null,
            "grid_template_rows": null,
            "height": null,
            "justify_content": null,
            "justify_items": null,
            "left": null,
            "margin": null,
            "max_height": null,
            "max_width": null,
            "min_height": null,
            "min_width": null,
            "object_fit": null,
            "object_position": null,
            "order": null,
            "overflow": null,
            "overflow_x": null,
            "overflow_y": null,
            "padding": null,
            "right": null,
            "top": null,
            "visibility": null,
            "width": null
          }
        },
        "db61c300c26f4e1a9a9580ae60612307": {
          "model_module": "@jupyter-widgets/controls",
          "model_name": "DescriptionStyleModel",
          "model_module_version": "1.5.0",
          "state": {
            "_model_module": "@jupyter-widgets/controls",
            "_model_module_version": "1.5.0",
            "_model_name": "DescriptionStyleModel",
            "_view_count": null,
            "_view_module": "@jupyter-widgets/base",
            "_view_module_version": "1.2.0",
            "_view_name": "StyleView",
            "description_width": ""
          }
        },
        "b0fd7c99303845dc953d4857b4268267": {
          "model_module": "@jupyter-widgets/controls",
          "model_name": "HBoxModel",
          "model_module_version": "1.5.0",
          "state": {
            "_dom_classes": [],
            "_model_module": "@jupyter-widgets/controls",
            "_model_module_version": "1.5.0",
            "_model_name": "HBoxModel",
            "_view_count": null,
            "_view_module": "@jupyter-widgets/controls",
            "_view_module_version": "1.5.0",
            "_view_name": "HBoxView",
            "box_style": "",
            "children": [
              "IPY_MODEL_871d5ef2d4934220a40620c7c294e9ab",
              "IPY_MODEL_7ccf07d3fb3b4d6896a5a3dc4c4e1df8",
              "IPY_MODEL_3da233b4035548959d7b34b4955300e2"
            ],
            "layout": "IPY_MODEL_c11331211c0f44cc8b0360643c15485f"
          }
        },
        "871d5ef2d4934220a40620c7c294e9ab": {
          "model_module": "@jupyter-widgets/controls",
          "model_name": "HTMLModel",
          "model_module_version": "1.5.0",
          "state": {
            "_dom_classes": [],
            "_model_module": "@jupyter-widgets/controls",
            "_model_module_version": "1.5.0",
            "_model_name": "HTMLModel",
            "_view_count": null,
            "_view_module": "@jupyter-widgets/controls",
            "_view_module_version": "1.5.0",
            "_view_name": "HTMLView",
            "description": "",
            "description_tooltip": null,
            "layout": "IPY_MODEL_0c65e738f7fc4807a5a87bc4d3f37228",
            "placeholder": "​",
            "style": "IPY_MODEL_1cf56df909a1434b8f4ef75734ef6d02",
            "value": "config.json: 100%"
          }
        },
        "7ccf07d3fb3b4d6896a5a3dc4c4e1df8": {
          "model_module": "@jupyter-widgets/controls",
          "model_name": "FloatProgressModel",
          "model_module_version": "1.5.0",
          "state": {
            "_dom_classes": [],
            "_model_module": "@jupyter-widgets/controls",
            "_model_module_version": "1.5.0",
            "_model_name": "FloatProgressModel",
            "_view_count": null,
            "_view_module": "@jupyter-widgets/controls",
            "_view_module_version": "1.5.0",
            "_view_name": "ProgressView",
            "bar_style": "success",
            "description": "",
            "description_tooltip": null,
            "layout": "IPY_MODEL_0b5a609d5f634d82b119ec69960e3e96",
            "max": 884,
            "min": 0,
            "orientation": "horizontal",
            "style": "IPY_MODEL_91d263c202f54b16b77870766b3a684e",
            "value": 884
          }
        },
        "3da233b4035548959d7b34b4955300e2": {
          "model_module": "@jupyter-widgets/controls",
          "model_name": "HTMLModel",
          "model_module_version": "1.5.0",
          "state": {
            "_dom_classes": [],
            "_model_module": "@jupyter-widgets/controls",
            "_model_module_version": "1.5.0",
            "_model_name": "HTMLModel",
            "_view_count": null,
            "_view_module": "@jupyter-widgets/controls",
            "_view_module_version": "1.5.0",
            "_view_name": "HTMLView",
            "description": "",
            "description_tooltip": null,
            "layout": "IPY_MODEL_074430b2c04c432e93ce6522db1d9f08",
            "placeholder": "​",
            "style": "IPY_MODEL_3547c49550aa4e2ba4d646e7f94ca42c",
            "value": " 884/884 [00:00&lt;00:00, 14.0kB/s]"
          }
        },
        "c11331211c0f44cc8b0360643c15485f": {
          "model_module": "@jupyter-widgets/base",
          "model_name": "LayoutModel",
          "model_module_version": "1.2.0",
          "state": {
            "_model_module": "@jupyter-widgets/base",
            "_model_module_version": "1.2.0",
            "_model_name": "LayoutModel",
            "_view_count": null,
            "_view_module": "@jupyter-widgets/base",
            "_view_module_version": "1.2.0",
            "_view_name": "LayoutView",
            "align_content": null,
            "align_items": null,
            "align_self": null,
            "border": null,
            "bottom": null,
            "display": null,
            "flex": null,
            "flex_flow": null,
            "grid_area": null,
            "grid_auto_columns": null,
            "grid_auto_flow": null,
            "grid_auto_rows": null,
            "grid_column": null,
            "grid_gap": null,
            "grid_row": null,
            "grid_template_areas": null,
            "grid_template_columns": null,
            "grid_template_rows": null,
            "height": null,
            "justify_content": null,
            "justify_items": null,
            "left": null,
            "margin": null,
            "max_height": null,
            "max_width": null,
            "min_height": null,
            "min_width": null,
            "object_fit": null,
            "object_position": null,
            "order": null,
            "overflow": null,
            "overflow_x": null,
            "overflow_y": null,
            "padding": null,
            "right": null,
            "top": null,
            "visibility": null,
            "width": null
          }
        },
        "0c65e738f7fc4807a5a87bc4d3f37228": {
          "model_module": "@jupyter-widgets/base",
          "model_name": "LayoutModel",
          "model_module_version": "1.2.0",
          "state": {
            "_model_module": "@jupyter-widgets/base",
            "_model_module_version": "1.2.0",
            "_model_name": "LayoutModel",
            "_view_count": null,
            "_view_module": "@jupyter-widgets/base",
            "_view_module_version": "1.2.0",
            "_view_name": "LayoutView",
            "align_content": null,
            "align_items": null,
            "align_self": null,
            "border": null,
            "bottom": null,
            "display": null,
            "flex": null,
            "flex_flow": null,
            "grid_area": null,
            "grid_auto_columns": null,
            "grid_auto_flow": null,
            "grid_auto_rows": null,
            "grid_column": null,
            "grid_gap": null,
            "grid_row": null,
            "grid_template_areas": null,
            "grid_template_columns": null,
            "grid_template_rows": null,
            "height": null,
            "justify_content": null,
            "justify_items": null,
            "left": null,
            "margin": null,
            "max_height": null,
            "max_width": null,
            "min_height": null,
            "min_width": null,
            "object_fit": null,
            "object_position": null,
            "order": null,
            "overflow": null,
            "overflow_x": null,
            "overflow_y": null,
            "padding": null,
            "right": null,
            "top": null,
            "visibility": null,
            "width": null
          }
        },
        "1cf56df909a1434b8f4ef75734ef6d02": {
          "model_module": "@jupyter-widgets/controls",
          "model_name": "DescriptionStyleModel",
          "model_module_version": "1.5.0",
          "state": {
            "_model_module": "@jupyter-widgets/controls",
            "_model_module_version": "1.5.0",
            "_model_name": "DescriptionStyleModel",
            "_view_count": null,
            "_view_module": "@jupyter-widgets/base",
            "_view_module_version": "1.2.0",
            "_view_name": "StyleView",
            "description_width": ""
          }
        },
        "0b5a609d5f634d82b119ec69960e3e96": {
          "model_module": "@jupyter-widgets/base",
          "model_name": "LayoutModel",
          "model_module_version": "1.2.0",
          "state": {
            "_model_module": "@jupyter-widgets/base",
            "_model_module_version": "1.2.0",
            "_model_name": "LayoutModel",
            "_view_count": null,
            "_view_module": "@jupyter-widgets/base",
            "_view_module_version": "1.2.0",
            "_view_name": "LayoutView",
            "align_content": null,
            "align_items": null,
            "align_self": null,
            "border": null,
            "bottom": null,
            "display": null,
            "flex": null,
            "flex_flow": null,
            "grid_area": null,
            "grid_auto_columns": null,
            "grid_auto_flow": null,
            "grid_auto_rows": null,
            "grid_column": null,
            "grid_gap": null,
            "grid_row": null,
            "grid_template_areas": null,
            "grid_template_columns": null,
            "grid_template_rows": null,
            "height": null,
            "justify_content": null,
            "justify_items": null,
            "left": null,
            "margin": null,
            "max_height": null,
            "max_width": null,
            "min_height": null,
            "min_width": null,
            "object_fit": null,
            "object_position": null,
            "order": null,
            "overflow": null,
            "overflow_x": null,
            "overflow_y": null,
            "padding": null,
            "right": null,
            "top": null,
            "visibility": null,
            "width": null
          }
        },
        "91d263c202f54b16b77870766b3a684e": {
          "model_module": "@jupyter-widgets/controls",
          "model_name": "ProgressStyleModel",
          "model_module_version": "1.5.0",
          "state": {
            "_model_module": "@jupyter-widgets/controls",
            "_model_module_version": "1.5.0",
            "_model_name": "ProgressStyleModel",
            "_view_count": null,
            "_view_module": "@jupyter-widgets/base",
            "_view_module_version": "1.2.0",
            "_view_name": "StyleView",
            "bar_color": null,
            "description_width": ""
          }
        },
        "074430b2c04c432e93ce6522db1d9f08": {
          "model_module": "@jupyter-widgets/base",
          "model_name": "LayoutModel",
          "model_module_version": "1.2.0",
          "state": {
            "_model_module": "@jupyter-widgets/base",
            "_model_module_version": "1.2.0",
            "_model_name": "LayoutModel",
            "_view_count": null,
            "_view_module": "@jupyter-widgets/base",
            "_view_module_version": "1.2.0",
            "_view_name": "LayoutView",
            "align_content": null,
            "align_items": null,
            "align_self": null,
            "border": null,
            "bottom": null,
            "display": null,
            "flex": null,
            "flex_flow": null,
            "grid_area": null,
            "grid_auto_columns": null,
            "grid_auto_flow": null,
            "grid_auto_rows": null,
            "grid_column": null,
            "grid_gap": null,
            "grid_row": null,
            "grid_template_areas": null,
            "grid_template_columns": null,
            "grid_template_rows": null,
            "height": null,
            "justify_content": null,
            "justify_items": null,
            "left": null,
            "margin": null,
            "max_height": null,
            "max_width": null,
            "min_height": null,
            "min_width": null,
            "object_fit": null,
            "object_position": null,
            "order": null,
            "overflow": null,
            "overflow_x": null,
            "overflow_y": null,
            "padding": null,
            "right": null,
            "top": null,
            "visibility": null,
            "width": null
          }
        },
        "3547c49550aa4e2ba4d646e7f94ca42c": {
          "model_module": "@jupyter-widgets/controls",
          "model_name": "DescriptionStyleModel",
          "model_module_version": "1.5.0",
          "state": {
            "_model_module": "@jupyter-widgets/controls",
            "_model_module_version": "1.5.0",
            "_model_name": "DescriptionStyleModel",
            "_view_count": null,
            "_view_module": "@jupyter-widgets/base",
            "_view_module_version": "1.2.0",
            "_view_name": "StyleView",
            "description_width": ""
          }
        },
        "7c26e9a4ef374f6dba0381afc420f666": {
          "model_module": "@jupyter-widgets/controls",
          "model_name": "HBoxModel",
          "model_module_version": "1.5.0",
          "state": {
            "_dom_classes": [],
            "_model_module": "@jupyter-widgets/controls",
            "_model_module_version": "1.5.0",
            "_model_name": "HBoxModel",
            "_view_count": null,
            "_view_module": "@jupyter-widgets/controls",
            "_view_module_version": "1.5.0",
            "_view_name": "HBoxView",
            "box_style": "",
            "children": [
              "IPY_MODEL_db55f8cad7904f35a83c3b2e3d641fae",
              "IPY_MODEL_e3498267f6b9498882919ac991603b55",
              "IPY_MODEL_b2c5c9e443b14c4cb72e57aa7bda4a5c"
            ],
            "layout": "IPY_MODEL_317ad10811074ac1844a7165b4113ac5"
          }
        },
        "db55f8cad7904f35a83c3b2e3d641fae": {
          "model_module": "@jupyter-widgets/controls",
          "model_name": "HTMLModel",
          "model_module_version": "1.5.0",
          "state": {
            "_dom_classes": [],
            "_model_module": "@jupyter-widgets/controls",
            "_model_module_version": "1.5.0",
            "_model_name": "HTMLModel",
            "_view_count": null,
            "_view_module": "@jupyter-widgets/controls",
            "_view_module_version": "1.5.0",
            "_view_name": "HTMLView",
            "description": "",
            "description_tooltip": null,
            "layout": "IPY_MODEL_0eaad57ba3994f4e94aad4ca1a353532",
            "placeholder": "​",
            "style": "IPY_MODEL_e3eb0b2493e54c3387eab9465822d30b",
            "value": "pytorch_model.bin: 100%"
          }
        },
        "e3498267f6b9498882919ac991603b55": {
          "model_module": "@jupyter-widgets/controls",
          "model_name": "FloatProgressModel",
          "model_module_version": "1.5.0",
          "state": {
            "_dom_classes": [],
            "_model_module": "@jupyter-widgets/controls",
            "_model_module_version": "1.5.0",
            "_model_name": "FloatProgressModel",
            "_view_count": null,
            "_view_module": "@jupyter-widgets/controls",
            "_view_module_version": "1.5.0",
            "_view_name": "ProgressView",
            "bar_style": "success",
            "description": "",
            "description_tooltip": null,
            "layout": "IPY_MODEL_a8214fc763534ba6b140176c352a1111",
            "max": 510397801,
            "min": 0,
            "orientation": "horizontal",
            "style": "IPY_MODEL_d75e54ee37fc4b27a383c69762f78175",
            "value": 510397801
          }
        },
        "b2c5c9e443b14c4cb72e57aa7bda4a5c": {
          "model_module": "@jupyter-widgets/controls",
          "model_name": "HTMLModel",
          "model_module_version": "1.5.0",
          "state": {
            "_dom_classes": [],
            "_model_module": "@jupyter-widgets/controls",
            "_model_module_version": "1.5.0",
            "_model_name": "HTMLModel",
            "_view_count": null,
            "_view_module": "@jupyter-widgets/controls",
            "_view_module_version": "1.5.0",
            "_view_name": "HTMLView",
            "description": "",
            "description_tooltip": null,
            "layout": "IPY_MODEL_f545f18c080545ad9240ec15386e444a",
            "placeholder": "​",
            "style": "IPY_MODEL_7bb7890a18f34421a9ee8dd1c56e76a4",
            "value": " 510M/510M [00:08&lt;00:00, 110MB/s]"
          }
        },
        "317ad10811074ac1844a7165b4113ac5": {
          "model_module": "@jupyter-widgets/base",
          "model_name": "LayoutModel",
          "model_module_version": "1.2.0",
          "state": {
            "_model_module": "@jupyter-widgets/base",
            "_model_module_version": "1.2.0",
            "_model_name": "LayoutModel",
            "_view_count": null,
            "_view_module": "@jupyter-widgets/base",
            "_view_module_version": "1.2.0",
            "_view_name": "LayoutView",
            "align_content": null,
            "align_items": null,
            "align_self": null,
            "border": null,
            "bottom": null,
            "display": null,
            "flex": null,
            "flex_flow": null,
            "grid_area": null,
            "grid_auto_columns": null,
            "grid_auto_flow": null,
            "grid_auto_rows": null,
            "grid_column": null,
            "grid_gap": null,
            "grid_row": null,
            "grid_template_areas": null,
            "grid_template_columns": null,
            "grid_template_rows": null,
            "height": null,
            "justify_content": null,
            "justify_items": null,
            "left": null,
            "margin": null,
            "max_height": null,
            "max_width": null,
            "min_height": null,
            "min_width": null,
            "object_fit": null,
            "object_position": null,
            "order": null,
            "overflow": null,
            "overflow_x": null,
            "overflow_y": null,
            "padding": null,
            "right": null,
            "top": null,
            "visibility": null,
            "width": null
          }
        },
        "0eaad57ba3994f4e94aad4ca1a353532": {
          "model_module": "@jupyter-widgets/base",
          "model_name": "LayoutModel",
          "model_module_version": "1.2.0",
          "state": {
            "_model_module": "@jupyter-widgets/base",
            "_model_module_version": "1.2.0",
            "_model_name": "LayoutModel",
            "_view_count": null,
            "_view_module": "@jupyter-widgets/base",
            "_view_module_version": "1.2.0",
            "_view_name": "LayoutView",
            "align_content": null,
            "align_items": null,
            "align_self": null,
            "border": null,
            "bottom": null,
            "display": null,
            "flex": null,
            "flex_flow": null,
            "grid_area": null,
            "grid_auto_columns": null,
            "grid_auto_flow": null,
            "grid_auto_rows": null,
            "grid_column": null,
            "grid_gap": null,
            "grid_row": null,
            "grid_template_areas": null,
            "grid_template_columns": null,
            "grid_template_rows": null,
            "height": null,
            "justify_content": null,
            "justify_items": null,
            "left": null,
            "margin": null,
            "max_height": null,
            "max_width": null,
            "min_height": null,
            "min_width": null,
            "object_fit": null,
            "object_position": null,
            "order": null,
            "overflow": null,
            "overflow_x": null,
            "overflow_y": null,
            "padding": null,
            "right": null,
            "top": null,
            "visibility": null,
            "width": null
          }
        },
        "e3eb0b2493e54c3387eab9465822d30b": {
          "model_module": "@jupyter-widgets/controls",
          "model_name": "DescriptionStyleModel",
          "model_module_version": "1.5.0",
          "state": {
            "_model_module": "@jupyter-widgets/controls",
            "_model_module_version": "1.5.0",
            "_model_name": "DescriptionStyleModel",
            "_view_count": null,
            "_view_module": "@jupyter-widgets/base",
            "_view_module_version": "1.2.0",
            "_view_name": "StyleView",
            "description_width": ""
          }
        },
        "a8214fc763534ba6b140176c352a1111": {
          "model_module": "@jupyter-widgets/base",
          "model_name": "LayoutModel",
          "model_module_version": "1.2.0",
          "state": {
            "_model_module": "@jupyter-widgets/base",
            "_model_module_version": "1.2.0",
            "_model_name": "LayoutModel",
            "_view_count": null,
            "_view_module": "@jupyter-widgets/base",
            "_view_module_version": "1.2.0",
            "_view_name": "LayoutView",
            "align_content": null,
            "align_items": null,
            "align_self": null,
            "border": null,
            "bottom": null,
            "display": null,
            "flex": null,
            "flex_flow": null,
            "grid_area": null,
            "grid_auto_columns": null,
            "grid_auto_flow": null,
            "grid_auto_rows": null,
            "grid_column": null,
            "grid_gap": null,
            "grid_row": null,
            "grid_template_areas": null,
            "grid_template_columns": null,
            "grid_template_rows": null,
            "height": null,
            "justify_content": null,
            "justify_items": null,
            "left": null,
            "margin": null,
            "max_height": null,
            "max_width": null,
            "min_height": null,
            "min_width": null,
            "object_fit": null,
            "object_position": null,
            "order": null,
            "overflow": null,
            "overflow_x": null,
            "overflow_y": null,
            "padding": null,
            "right": null,
            "top": null,
            "visibility": null,
            "width": null
          }
        },
        "d75e54ee37fc4b27a383c69762f78175": {
          "model_module": "@jupyter-widgets/controls",
          "model_name": "ProgressStyleModel",
          "model_module_version": "1.5.0",
          "state": {
            "_model_module": "@jupyter-widgets/controls",
            "_model_module_version": "1.5.0",
            "_model_name": "ProgressStyleModel",
            "_view_count": null,
            "_view_module": "@jupyter-widgets/base",
            "_view_module_version": "1.2.0",
            "_view_name": "StyleView",
            "bar_color": null,
            "description_width": ""
          }
        },
        "f545f18c080545ad9240ec15386e444a": {
          "model_module": "@jupyter-widgets/base",
          "model_name": "LayoutModel",
          "model_module_version": "1.2.0",
          "state": {
            "_model_module": "@jupyter-widgets/base",
            "_model_module_version": "1.2.0",
            "_model_name": "LayoutModel",
            "_view_count": null,
            "_view_module": "@jupyter-widgets/base",
            "_view_module_version": "1.2.0",
            "_view_name": "LayoutView",
            "align_content": null,
            "align_items": null,
            "align_self": null,
            "border": null,
            "bottom": null,
            "display": null,
            "flex": null,
            "flex_flow": null,
            "grid_area": null,
            "grid_auto_columns": null,
            "grid_auto_flow": null,
            "grid_auto_rows": null,
            "grid_column": null,
            "grid_gap": null,
            "grid_row": null,
            "grid_template_areas": null,
            "grid_template_columns": null,
            "grid_template_rows": null,
            "height": null,
            "justify_content": null,
            "justify_items": null,
            "left": null,
            "margin": null,
            "max_height": null,
            "max_width": null,
            "min_height": null,
            "min_width": null,
            "object_fit": null,
            "object_position": null,
            "order": null,
            "overflow": null,
            "overflow_x": null,
            "overflow_y": null,
            "padding": null,
            "right": null,
            "top": null,
            "visibility": null,
            "width": null
          }
        },
        "7bb7890a18f34421a9ee8dd1c56e76a4": {
          "model_module": "@jupyter-widgets/controls",
          "model_name": "DescriptionStyleModel",
          "model_module_version": "1.5.0",
          "state": {
            "_model_module": "@jupyter-widgets/controls",
            "_model_module_version": "1.5.0",
            "_model_name": "DescriptionStyleModel",
            "_view_count": null,
            "_view_module": "@jupyter-widgets/base",
            "_view_module_version": "1.2.0",
            "_view_name": "StyleView",
            "description_width": ""
          }
        }
      }
    }
  },
  "cells": [
    {
      "cell_type": "code",
      "execution_count": null,
      "metadata": {
        "colab": {
          "base_uri": "https://localhost:8080/"
        },
        "id": "A9x6hEb0eXgt",
        "outputId": "307a681d-59dc-40e1-bed8-0a1b64ea7dcc"
      },
      "outputs": [
        {
          "output_type": "stream",
          "name": "stdout",
          "text": [
            "Drive already mounted at /content/drive; to attempt to forcibly remount, call drive.mount(\"/content/drive\", force_remount=True).\n"
          ]
        }
      ],
      "source": [
        "from google.colab import drive\n",
        "drive.mount('/content/drive')"
      ]
    },
    {
      "cell_type": "markdown",
      "source": [
        "# Thử nghiệm trên đoạn test tự viết"
      ],
      "metadata": {
        "id": "WMva0jLXuUwj"
      }
    },
    {
      "cell_type": "markdown",
      "metadata": {
        "id": "43e0b96c-2e02-4344-871a-e3065a61df80"
      },
      "source": [
        "## 1.  Cài đặt thư viện SimCTG và tải mô hình GPT-2 tiếng Việt"
      ]
    },
    {
      "cell_type": "code",
      "source": [
        "# ! SKLEARN_ALLOW_DEPRECATED_SKLEARN_PACKAGE_INSTALL=True pip install simctg --upgrade"
      ],
      "metadata": {
        "id": "BxZX-j8pwe97"
      },
      "execution_count": null,
      "outputs": []
    },
    {
      "cell_type": "code",
      "source": [
        "%cd /content/drive/MyDrive/NLP/SimCTG/pretraining"
      ],
      "metadata": {
        "colab": {
          "base_uri": "https://localhost:8080/"
        },
        "id": "Vdb-03dHiBQ6",
        "outputId": "547726ee-1201-4070-ccc6-c35f3197b248"
      },
      "execution_count": null,
      "outputs": [
        {
          "output_type": "stream",
          "name": "stdout",
          "text": [
            "/content/drive/.shortcut-targets-by-id/1gesrWzv6zLxGIKi9f-n1Fx5jDxeGs-J7/SimCTG/pretraining\n"
          ]
        }
      ]
    },
    {
      "cell_type": "code",
      "source": [
        "import torch\n",
        "from simctg import SimCTGPretraining\n",
        "#import simgctg từ tập file được tải từ github về gg drive,\n",
        "# Lưu ý cần cd đến đúng vị trí file cần import để tránh lỗi trùng file name"
      ],
      "metadata": {
        "id": "cGgENZA9wnuN"
      },
      "execution_count": null,
      "outputs": []
    },
    {
      "cell_type": "code",
      "source": [
        "# Tải mô hình GPT-2 tiếng Việt từ Hugging Face (https://huggingface.co/NlpHUST/gpt2-vietnamese)\n",
        "model_path = 'NlpHUST/gpt2-vietnamese'\n",
        "model = SimCTGPretraining(model_path)\n",
        "model.eval()"
      ],
      "metadata": {
        "colab": {
          "base_uri": "https://localhost:8080/",
          "height": 935,
          "referenced_widgets": [
            "a6da8526758c457db017993bc04f48f5",
            "4cf98a3984d54af08b98d5e39651c8e8",
            "d27c244788a84695ac9b89c755c17233",
            "89a7528d2fc64fe5a2e058e76a46d5d7",
            "2d7080d03d364cf9ba28f2f87abbc94e",
            "f27de9e8c6d649c9b71e47636b18d93a",
            "47af480d098d46759c98ffb0d9414967",
            "45b0003b0dc84dbebd4e8fcfcb331d82",
            "51bcbcebfa2f4fa69b48b2faca6020bd",
            "186c785c8f20416189e60fef392e89bf",
            "6be91123c347417d86902879a6a555c6",
            "b21cccc4dc9c4784a81401236c4fb443",
            "3d122105411a4d83a41265fe44281156",
            "b62500fdd37246ebb8bd422972f5df1a",
            "3d841c4044bb42f99515fbe2ccf97c98",
            "00ad3a7d681945b89b644c82f0122dab",
            "b05144515c1044089920211873237d54",
            "b6e2445fb0ae4cc1a5c27aece6eaf459",
            "19f9a1e8896f4d53b9c4381433a3b2a5",
            "5b11e22efb2e424faa28bdfc7db645df",
            "1c35bf7b428d43cb8dc89d04cca9192b",
            "aae1ee0ce9914eb3821002e2707e5c0a",
            "d828bc5274e842e885cc478be21e83a0",
            "ba27fa16e3e44622bb8286f14cbc5cbb",
            "371624ce9629474cb9dc17049c8b98cb",
            "3db1163afd3345cabb87b76156aac0e5",
            "f63820f07f5d46c2adfe75192f4e8966",
            "9ee66abc16a24c6280f2e9f02c5a931e",
            "c8ec3dd8c68b437f8b67de287ad81d2e",
            "79c0e5023f2a47c382bedb36db890e76",
            "67024f64011f4326b1431e1446b49d97",
            "417bcc8a3d294d03a6242b23b0c8b411",
            "ccef996f64ab4a56bce15c2bef2ab1ad",
            "c935d31ff3364b5dbea6d0ea80dd17b3",
            "fb88cf84fb5c4b428afe5f9eed886d4f",
            "31e3d9f0bde94e319de26a6865c62cac",
            "b1d2797762a64fd29af566ecd0c3d6cd",
            "c717178068844d0689658dd89188d81c",
            "b5cc6fb7d2344abd9fb9dc098ab7e3a8",
            "d989007fe38e42d88dd1745bd6220ed0",
            "853352e57b654fcab1108a2708d80ac8",
            "3058c1e8c6974167a0fbc2428e57ba25",
            "3a83347269684961acb4e868953eb7f8",
            "4096fc06cde444aea60867180c66bec9",
            "50942ac4b89b42a4a79623501e0841a7",
            "8653150b01764861ba7ec274e7ecf933",
            "4728689042c745ee86e00772a191c6db",
            "6ba5217582e946b8b8b0ae040eab1c8e",
            "6c2f97ef98a7469795b589d56eefc78d",
            "a780990ce7ec4168943e05a082567124",
            "da256a26d1c941f0a9f14e859061b0e0",
            "b0e3a61469c4497a8ec8029df5fb6d5d",
            "9930903f0a8e44cea310f9a0a920113c",
            "e1edbe8d806d4cd0b8572b2bc4bdddcb",
            "0a82771dfc1c4e229419de84d6f3e241",
            "b0e17860342d482f83845003e30400bf",
            "ed37970e327f4e86b6145e8b0e9ee3f8",
            "d93a7e5c836846309c4c488d03be6bed",
            "240c26d6c213421ca7060b85dd6a4610",
            "071457c6887f4f3b88a0a71acd00a3ae",
            "d953dc67825d49b785ec465e5d02d1e8",
            "c010115367e14dfbae030f2471d7e275",
            "9b11f9c808464b6ead11f02ebc7d8933",
            "4f7a32cdcc274f56b7195f8da43d9f75",
            "41479130f0ed4367b9b307fa6efded00",
            "db61c300c26f4e1a9a9580ae60612307",
            "b0fd7c99303845dc953d4857b4268267",
            "871d5ef2d4934220a40620c7c294e9ab",
            "7ccf07d3fb3b4d6896a5a3dc4c4e1df8",
            "3da233b4035548959d7b34b4955300e2",
            "c11331211c0f44cc8b0360643c15485f",
            "0c65e738f7fc4807a5a87bc4d3f37228",
            "1cf56df909a1434b8f4ef75734ef6d02",
            "0b5a609d5f634d82b119ec69960e3e96",
            "91d263c202f54b16b77870766b3a684e",
            "074430b2c04c432e93ce6522db1d9f08",
            "3547c49550aa4e2ba4d646e7f94ca42c",
            "7c26e9a4ef374f6dba0381afc420f666",
            "db55f8cad7904f35a83c3b2e3d641fae",
            "e3498267f6b9498882919ac991603b55",
            "b2c5c9e443b14c4cb72e57aa7bda4a5c",
            "317ad10811074ac1844a7165b4113ac5",
            "0eaad57ba3994f4e94aad4ca1a353532",
            "e3eb0b2493e54c3387eab9465822d30b",
            "a8214fc763534ba6b140176c352a1111",
            "d75e54ee37fc4b27a383c69762f78175",
            "f545f18c080545ad9240ec15386e444a",
            "7bb7890a18f34421a9ee8dd1c56e76a4"
          ]
        },
        "id": "ppeM6GnF7Dte",
        "outputId": "83f027bf-72f5-42d5-b9d7-46831b4cd01a"
      },
      "execution_count": null,
      "outputs": [
        {
          "output_type": "stream",
          "name": "stderr",
          "text": [
            "/usr/local/lib/python3.10/dist-packages/huggingface_hub/utils/_token.py:89: UserWarning: \n",
            "The secret `HF_TOKEN` does not exist in your Colab secrets.\n",
            "To authenticate with the Hugging Face Hub, create a token in your settings tab (https://huggingface.co/settings/tokens), set it as secret in your Google Colab and restart your session.\n",
            "You will be able to reuse this secret in all of your notebooks.\n",
            "Please note that authentication is recommended but still optional to access public models or datasets.\n",
            "  warnings.warn(\n"
          ]
        },
        {
          "output_type": "display_data",
          "data": {
            "text/plain": [
              "tokenizer_config.json:   0%|          | 0.00/215 [00:00<?, ?B/s]"
            ],
            "application/vnd.jupyter.widget-view+json": {
              "version_major": 2,
              "version_minor": 0,
              "model_id": "a6da8526758c457db017993bc04f48f5"
            }
          },
          "metadata": {}
        },
        {
          "output_type": "display_data",
          "data": {
            "text/plain": [
              "vocab.json:   0%|          | 0.00/854k [00:00<?, ?B/s]"
            ],
            "application/vnd.jupyter.widget-view+json": {
              "version_major": 2,
              "version_minor": 0,
              "model_id": "b21cccc4dc9c4784a81401236c4fb443"
            }
          },
          "metadata": {}
        },
        {
          "output_type": "display_data",
          "data": {
            "text/plain": [
              "merges.txt:   0%|          | 0.00/512k [00:00<?, ?B/s]"
            ],
            "application/vnd.jupyter.widget-view+json": {
              "version_major": 2,
              "version_minor": 0,
              "model_id": "d828bc5274e842e885cc478be21e83a0"
            }
          },
          "metadata": {}
        },
        {
          "output_type": "display_data",
          "data": {
            "text/plain": [
              "tokenizer.json:   0%|          | 0.00/2.22M [00:00<?, ?B/s]"
            ],
            "application/vnd.jupyter.widget-view+json": {
              "version_major": 2,
              "version_minor": 0,
              "model_id": "c935d31ff3364b5dbea6d0ea80dd17b3"
            }
          },
          "metadata": {}
        },
        {
          "output_type": "display_data",
          "data": {
            "text/plain": [
              "added_tokens.json:   0%|          | 0.00/24.0 [00:00<?, ?B/s]"
            ],
            "application/vnd.jupyter.widget-view+json": {
              "version_major": 2,
              "version_minor": 0,
              "model_id": "50942ac4b89b42a4a79623501e0841a7"
            }
          },
          "metadata": {}
        },
        {
          "output_type": "display_data",
          "data": {
            "text/plain": [
              "special_tokens_map.json:   0%|          | 0.00/90.0 [00:00<?, ?B/s]"
            ],
            "application/vnd.jupyter.widget-view+json": {
              "version_major": 2,
              "version_minor": 0,
              "model_id": "b0e17860342d482f83845003e30400bf"
            }
          },
          "metadata": {}
        },
        {
          "output_type": "stream",
          "name": "stdout",
          "text": [
            "Further pre-train with available parameters.\n"
          ]
        },
        {
          "output_type": "display_data",
          "data": {
            "text/plain": [
              "config.json:   0%|          | 0.00/884 [00:00<?, ?B/s]"
            ],
            "application/vnd.jupyter.widget-view+json": {
              "version_major": 2,
              "version_minor": 0,
              "model_id": "b0fd7c99303845dc953d4857b4268267"
            }
          },
          "metadata": {}
        },
        {
          "output_type": "display_data",
          "data": {
            "text/plain": [
              "pytorch_model.bin:   0%|          | 0.00/510M [00:00<?, ?B/s]"
            ],
            "application/vnd.jupyter.widget-view+json": {
              "version_major": 2,
              "version_minor": 0,
              "model_id": "7c26e9a4ef374f6dba0381afc420f666"
            }
          },
          "metadata": {}
        },
        {
          "output_type": "execute_result",
          "data": {
            "text/plain": [
              "SimCTGPretraining(\n",
              "  (model): GPT2LMHeadModel(\n",
              "    (transformer): GPT2Model(\n",
              "      (wte): Embedding(50257, 768)\n",
              "      (wpe): Embedding(1024, 768)\n",
              "      (drop): Dropout(p=0.0, inplace=False)\n",
              "      (h): ModuleList(\n",
              "        (0-11): 12 x GPT2Block(\n",
              "          (ln_1): LayerNorm((768,), eps=1e-05, elementwise_affine=True)\n",
              "          (attn): GPT2SdpaAttention(\n",
              "            (c_attn): Conv1D()\n",
              "            (c_proj): Conv1D()\n",
              "            (attn_dropout): Dropout(p=0.0, inplace=False)\n",
              "            (resid_dropout): Dropout(p=0.0, inplace=False)\n",
              "          )\n",
              "          (ln_2): LayerNorm((768,), eps=1e-05, elementwise_affine=True)\n",
              "          (mlp): GPT2MLP(\n",
              "            (c_fc): Conv1D()\n",
              "            (c_proj): Conv1D()\n",
              "            (act): NewGELUActivation()\n",
              "            (dropout): Dropout(p=0.0, inplace=False)\n",
              "          )\n",
              "        )\n",
              "      )\n",
              "      (ln_f): LayerNorm((768,), eps=1e-05, elementwise_affine=True)\n",
              "    )\n",
              "    (lm_head): Linear(in_features=768, out_features=50257, bias=False)\n",
              "  )\n",
              "  (logsftmax): LogSoftmax(dim=-1)\n",
              ")"
            ]
          },
          "metadata": {},
          "execution_count": 4
        }
      ]
    },
    {
      "cell_type": "markdown",
      "source": [
        "## 2. Thử nghiệm trên trên đoạn test nhỏ"
      ],
      "metadata": {
        "id": "Dcswb9NaLg_o"
      }
    },
    {
      "cell_type": "code",
      "source": [
        "text = '''Trong một tương lai gần, công nghệ AI sẽ được sử dụng để cải thiện\n",
        "nhiều lĩnh vực khác nhau.'''\n",
        "\n",
        "tokens = model.tokenizer.tokenize(text) # Phân tách thành các token\n",
        "input_ids = model.tokenizer.convert_tokens_to_ids(tokens) # Chuyển đổi token thành ID\n",
        "input_ids = torch.LongTensor(input_ids).view(1, -1) # Tạo tensor từ các ID"
      ],
      "metadata": {
        "id": "7SmSQYS2ACcu"
      },
      "execution_count": null,
      "outputs": []
    },
    {
      "cell_type": "code",
      "source": [
        "# (1) use contrastive search to generate the result\n",
        "beam_width, alpha, decoding_len = 3, 0.6, 124\n",
        "eos_token = model.tokenizer.eos_token\n",
        "contrastive_output = model.fast_contrastive_search(input_ids, beam_width, alpha, decoding_len, eos_token)\n",
        "print(contrastive_output)"
      ],
      "metadata": {
        "colab": {
          "base_uri": "https://localhost:8080/"
        },
        "id": "NsifEeVECL8F",
        "outputId": "8571d094-8a8d-4fe6-be62-5cae103a8e90"
      },
      "execution_count": null,
      "outputs": [
        {
          "output_type": "stream",
          "name": "stdout",
          "text": [
            "Trong một tương lai gần, công nghệ AI sẽ được sử dụng để cải thiện \n",
            "nhiều lĩnh vực khác nhau. Trong đó, có thể kể đến như trí tuệ nhân tạo (AI) và robot. AI là công nghệ có khả năng thay đổi hành vi của con người, từ đó tạo ra những sản phẩm có tính cạnh tranh cao hơn. Tuy nhiên, AI cũng có thể gây ra những tác động tiêu cực đối với môi trường, thậm chí đe dọa sự tồn tại của các loài động vật trong tự nhiên.\n",
            "Theo các chuyên gia, AI có thể giúp con người có thể tự nhận thức và điều khiển các hoạt động của mình thông qua các thiết bị di động. AI có thể giúp con người có thể nhận\n"
          ]
        }
      ]
    },
    {
      "cell_type": "code",
      "source": [
        "# (2) use nucleus sampling to generate the result\n",
        "nucleus_p, decoding_len = 0.95, 124\n",
        "eos_token = model.tokenizer.eos_token\n",
        "nucleus_output = model.nucleus_sampling(input_ids, nucleus_p, decoding_len, eos_token)\n",
        "print (nucleus_output)"
      ],
      "metadata": {
        "id": "MteWG_B_BxRx",
        "colab": {
          "base_uri": "https://localhost:8080/"
        },
        "outputId": "fa27a634-0a70-40a4-d4e2-6328bb71565f"
      },
      "execution_count": null,
      "outputs": [
        {
          "output_type": "stream",
          "name": "stderr",
          "text": [
            "The attention mask and the pad token id were not set. As a consequence, you may observe unexpected behavior. Please pass your input's `attention_mask` to obtain reliable results.\n",
            "Setting `pad_token_id` to `eos_token_id`:50256 for open-end generation.\n"
          ]
        },
        {
          "output_type": "stream",
          "name": "stdout",
          "text": [
            "Trong một tương lai gần, công nghệ AI sẽ được sử dụng để cải thiện \n",
            "nhiều lĩnh vực khác nhau. Trong số các lĩnh vực đó, trong những lĩnh vực mà công nghệ thích nghi tốt nhất, công nghệ mới nhất, được sử dụng bởi tất cả các...\t\n",
            "Blockchain tạo ra khá nhiều thay đổi về việc giao dịch, hoạt động kinh doanh và làm việc nhanh chóng. Thuật toán kết hợp...\t\n",
            "Quá trình loại bỏ các giao diện lộn xộn là một trong những công cụ quan trọng được sử dụng để xây dựng một hệ thống thông...\t\n",
            "Xu hướng phát triển chung của công nghệ blockchain để giúp cải thiện các cơ chế trong việc quản lý các thay đổi trong các...\t\n",
            "Hiện nay,\n"
          ]
        }
      ]
    },
    {
      "cell_type": "code",
      "source": [
        "# (3) use greedy search to generate the result\n",
        "decoding_len = 124\n",
        "eos_token = model.tokenizer.eos_token\n",
        "greedy_output = model.greedy_search(input_ids, decoding_len, eos_token)\n",
        "print (greedy_output)"
      ],
      "metadata": {
        "id": "XxZm0zaaB1gB",
        "colab": {
          "base_uri": "https://localhost:8080/"
        },
        "outputId": "b4b92e24-6e18-449e-e376-522c10e3bf29"
      },
      "execution_count": null,
      "outputs": [
        {
          "output_type": "stream",
          "name": "stderr",
          "text": [
            "The attention mask and the pad token id were not set. As a consequence, you may observe unexpected behavior. Please pass your input's `attention_mask` to obtain reliable results.\n",
            "Setting `pad_token_id` to `eos_token_id`:50256 for open-end generation.\n"
          ]
        },
        {
          "output_type": "stream",
          "name": "stdout",
          "text": [
            "Trong một tương lai gần, công nghệ AI sẽ được sử dụng để thay thế cho các thuật toán tự động hóa trong các lĩnh vực như giao thông, y tế, giáo dục, giao thông vận tải, giao thông vận tải và các lĩnh vực khác.\n",
            "Các nhà nghiên cứu tại Đại học Cambridge, Anh, đã phát triển một loại máy có thể nhận diện các vật thể di động, có thể di chuyển trong vòng vài giây.\n",
            "Các nhà nghiên cứu tại Đại học Cambridge, Anh, đã phát triển một loại máy có thể nhận diện các vật thể di động, có thể di chuyển trong vòng vài giây.\n",
            "Các nhà nghiên cứu tại Đại học Cambridge, Anh,\n"
          ]
        }
      ]
    },
    {
      "cell_type": "code",
      "source": [
        "# (4) use beam search to generate the result\n",
        "beam_width, decoding_len = 10, 124\n",
        "eos_token = model.tokenizer.eos_token\n",
        "beam_output = model.beam_search(input_ids, beam_width, decoding_len, eos_token)\n",
        "print (beam_output)"
      ],
      "metadata": {
        "id": "Q7Z4h9B8B3p4",
        "colab": {
          "base_uri": "https://localhost:8080/"
        },
        "outputId": "6d339307-ffa7-4e21-f094-732a8433743e"
      },
      "execution_count": null,
      "outputs": [
        {
          "output_type": "stream",
          "name": "stderr",
          "text": [
            "The attention mask and the pad token id were not set. As a consequence, you may observe unexpected behavior. Please pass your input's `attention_mask` to obtain reliable results.\n",
            "Setting `pad_token_id` to `eos_token_id`:50256 for open-end generation.\n"
          ]
        },
        {
          "output_type": "stream",
          "name": "stdout",
          "text": [
            "Trong một tương lai gần, công nghệ AI sẽ được sử dụng để thay thế cho trí tuệ nhân tạo (AI) và trí tuệ nhân tạo (Artificial intelligence - AI) trong lĩnh vực y tế và chăm sóc sức khỏe.\n",
            "Trong tương lai gần, công nghệ AI sẽ được sử dụng để thay thế cho trí tuệ nhân tạo (AI) và trí tuệ nhân tạo (Artificial intelligence - AI) trong lĩnh vực y tế và chăm sóc sức khỏe.\n",
            "Trong tương lai gần, công nghệ AI sẽ được sử dụng để thay thế cho trí tuệ nhân tạo (AI) và trí tuệ nhân tạo (Artificial intelligence - AI\n"
          ]
        }
      ]
    },
    {
      "cell_type": "markdown",
      "source": [
        "## Đánh giá"
      ],
      "metadata": {
        "id": "Qoql8ieuP2OR"
      }
    },
    {
      "cell_type": "code",
      "source": [
        "!pip install nltk rouge-score\n"
      ],
      "metadata": {
        "colab": {
          "base_uri": "https://localhost:8080/"
        },
        "id": "fJ188wEmR-iN",
        "outputId": "7180c173-59cc-4936-ee09-ae0902dceecd"
      },
      "execution_count": null,
      "outputs": [
        {
          "output_type": "stream",
          "name": "stdout",
          "text": [
            "Requirement already satisfied: nltk in /usr/local/lib/python3.10/dist-packages (3.8.1)\n",
            "Requirement already satisfied: rouge-score in /usr/local/lib/python3.10/dist-packages (0.1.2)\n",
            "Requirement already satisfied: click in /usr/local/lib/python3.10/dist-packages (from nltk) (8.1.7)\n",
            "Requirement already satisfied: joblib in /usr/local/lib/python3.10/dist-packages (from nltk) (1.4.2)\n",
            "Requirement already satisfied: regex>=2021.8.3 in /usr/local/lib/python3.10/dist-packages (from nltk) (2024.5.15)\n",
            "Requirement already satisfied: tqdm in /usr/local/lib/python3.10/dist-packages (from nltk) (4.66.4)\n",
            "Requirement already satisfied: absl-py in /usr/local/lib/python3.10/dist-packages (from rouge-score) (1.4.0)\n",
            "Requirement already satisfied: numpy in /usr/local/lib/python3.10/dist-packages (from rouge-score) (1.25.2)\n",
            "Requirement already satisfied: six>=1.14.0 in /usr/local/lib/python3.10/dist-packages (from rouge-score) (1.16.0)\n"
          ]
        }
      ]
    },
    {
      "cell_type": "code",
      "source": [
        "from nltk.translate.bleu_score import corpus_bleu\n",
        "from rouge_score import rouge_scorer\n",
        "\n",
        "# Văn bản tham chiếu\n",
        "reference_text = '''Trong một tương lai gần, công nghệ AI sẽ được sử dụng để\n",
        " cải thiện nhiều lĩnh vực khác nhau. Trong y tế, AI sẽ giúp chẩn đoán bệnh\n",
        " nhanh chóng và chính xác hơn, cá nhân hóa điều trị cho từng bệnh nhân. Trong\n",
        " giao thông, các phương tiện tự hành sẽ giảm tai nạn và ùn tắc. Trong giáo dục,\n",
        " AI sẽ tạo ra các chương trình học tùy chỉnh và hỗ trợ giáo viên. Trong kinh\n",
        " doanh, AI sẽ dự đoán xu hướng thị trường và tối ưu hóa dịch vụ khách hàng.\n",
        " Trong nông nghiệp, AI sẽ quản lý đất đai và cây trồng hiệu quả hơn. Cuối\n",
        " cùng, AI sẽ phát hiện và ngăn chặn các mối đe dọa an ninh mạng một cách nhanh\n",
        " chóng. AI cũng sẽ phân tích hành vi người dùng để nâng cao trải nghiệm cá nhân\n",
        " hóa.'''\n",
        "\n",
        "# Tokenize văn bản tham chiếu\n",
        "reference_tokens = reference_text.split()\n",
        "\n",
        "# Các văn bản được tạo ra từ mỗi phương pháp (đảm bảo chúng cũng được tokenized)\n",
        "contrastive_output = contrastive_output.split()\n",
        "greedy_output = greedy_output.split()\n",
        "beam_output = beam_output.split()\n",
        "nucleus_output = nucleus_output.split()\n",
        "\n",
        "# Hàm tính BLEU score\n",
        "def calculate_bleu_score(generated_text, reference_tokens):\n",
        "    return corpus_bleu([[reference_tokens]], [generated_text])\n",
        "\n",
        "# Hàm tính ROUGE score\n",
        "def calculate_rouge_score(generated_text, reference_text):\n",
        "    scorer = rouge_scorer.RougeScorer(['rougeL'], use_stemmer=True)\n",
        "    scores = scorer.score(reference_text, ' '.join(generated_text))\n",
        "    return scores['rougeL'].fmeasure\n",
        "\n",
        "# Danh sách các đầu ra\n",
        "generated_texts = {\n",
        "    \"Contrastive\": contrastive_output,\n",
        "    \"Greedy\": greedy_output,\n",
        "    \"Beam\": beam_output,\n",
        "    \"Nucleus\": nucleus_output,\n",
        "}\n",
        "\n",
        "# Tính toán và in kết quả cho tất cả các phương pháp\n",
        "for method, generated_text in generated_texts.items():\n",
        "    bleu = calculate_bleu_score(generated_text, reference_tokens)\n",
        "    rouge = calculate_rouge_score(generated_text, reference_text)\n",
        "\n",
        "    print(f\"\\n{method} Scores:\")\n",
        "    print(\"BLEU:\", bleu)\n",
        "    print(\"ROUGE:\", rouge)\n"
      ],
      "metadata": {
        "colab": {
          "base_uri": "https://localhost:8080/"
        },
        "id": "VOhshPqTVH8c",
        "outputId": "cd82ce17-c1f5-4744-9f54-6a9f0ada3f81"
      },
      "execution_count": null,
      "outputs": [
        {
          "output_type": "stream",
          "name": "stdout",
          "text": [
            "\n",
            "Contrastive Scores:\n",
            "BLEU: 0.1664125893956523\n",
            "ROUGE: 0.41904761904761906\n",
            "\n",
            "Greedy Scores:\n",
            "BLEU: 0.10194452698451514\n",
            "ROUGE: 0.3795620437956205\n",
            "\n",
            "Beam Scores:\n",
            "BLEU: 0.09904304605193394\n",
            "ROUGE: 0.3641304347826087\n",
            "\n",
            "Nucleus Scores:\n",
            "BLEU: 0.15875360764723603\n",
            "ROUGE: 0.4085510688836104\n"
          ]
        }
      ]
    },
    {
      "cell_type": "markdown",
      "source": [
        "# Thử nghiệm trên đoạn văn bản từ 1 bài báo"
      ],
      "metadata": {
        "id": "5vPfI_oOudsG"
      }
    },
    {
      "cell_type": "markdown",
      "source": [
        "## Cài đặt và import thư viện cần thiết"
      ],
      "metadata": {
        "id": "jpZVDpjCjgcy"
      }
    },
    {
      "cell_type": "code",
      "source": [
        "from google.colab import drive\n",
        "drive.mount('/content/drive')\n",
        "\n",
        "# Cài đặt các thư viện cần thiết\n",
        "!pip install requests beautifulsoup4 nltk matplotlib rouge-score\n",
        "# Di chuyển đến thư mục chứa simctg\n",
        "%cd /content/drive/MyDrive/NLP/SimCTG/pretraining\n",
        "\n",
        "# Import các thư viện cần thiết\n",
        "import requests\n",
        "from bs4 import BeautifulSoup\n",
        "import torch\n",
        "from simctg import SimCTGPretraining\n",
        "from nltk.translate.bleu_score import corpus_bleu\n",
        "from rouge_score import rouge_scorer\n",
        "import matplotlib.pyplot as plt\n"
      ],
      "metadata": {
        "colab": {
          "base_uri": "https://localhost:8080/"
        },
        "id": "nxEmPmsnmjU0",
        "outputId": "e9a5dd27-17f7-454e-b544-63eee8a9ffd5"
      },
      "execution_count": null,
      "outputs": [
        {
          "output_type": "stream",
          "name": "stdout",
          "text": [
            "Drive already mounted at /content/drive; to attempt to forcibly remount, call drive.mount(\"/content/drive\", force_remount=True).\n",
            "Requirement already satisfied: requests in /usr/local/lib/python3.10/dist-packages (2.32.3)\n",
            "Requirement already satisfied: beautifulsoup4 in /usr/local/lib/python3.10/dist-packages (4.12.3)\n",
            "Requirement already satisfied: nltk in /usr/local/lib/python3.10/dist-packages (3.8.1)\n",
            "Requirement already satisfied: matplotlib in /usr/local/lib/python3.10/dist-packages (3.7.1)\n",
            "Requirement already satisfied: rouge-score in /usr/local/lib/python3.10/dist-packages (0.1.2)\n",
            "Requirement already satisfied: charset-normalizer<4,>=2 in /usr/local/lib/python3.10/dist-packages (from requests) (3.3.2)\n",
            "Requirement already satisfied: idna<4,>=2.5 in /usr/local/lib/python3.10/dist-packages (from requests) (3.7)\n",
            "Requirement already satisfied: urllib3<3,>=1.21.1 in /usr/local/lib/python3.10/dist-packages (from requests) (2.0.7)\n",
            "Requirement already satisfied: certifi>=2017.4.17 in /usr/local/lib/python3.10/dist-packages (from requests) (2024.7.4)\n",
            "Requirement already satisfied: soupsieve>1.2 in /usr/local/lib/python3.10/dist-packages (from beautifulsoup4) (2.5)\n",
            "Requirement already satisfied: click in /usr/local/lib/python3.10/dist-packages (from nltk) (8.1.7)\n",
            "Requirement already satisfied: joblib in /usr/local/lib/python3.10/dist-packages (from nltk) (1.4.2)\n",
            "Requirement already satisfied: regex>=2021.8.3 in /usr/local/lib/python3.10/dist-packages (from nltk) (2024.5.15)\n",
            "Requirement already satisfied: tqdm in /usr/local/lib/python3.10/dist-packages (from nltk) (4.66.4)\n",
            "Requirement already satisfied: contourpy>=1.0.1 in /usr/local/lib/python3.10/dist-packages (from matplotlib) (1.2.1)\n",
            "Requirement already satisfied: cycler>=0.10 in /usr/local/lib/python3.10/dist-packages (from matplotlib) (0.12.1)\n",
            "Requirement already satisfied: fonttools>=4.22.0 in /usr/local/lib/python3.10/dist-packages (from matplotlib) (4.53.1)\n",
            "Requirement already satisfied: kiwisolver>=1.0.1 in /usr/local/lib/python3.10/dist-packages (from matplotlib) (1.4.5)\n",
            "Requirement already satisfied: numpy>=1.20 in /usr/local/lib/python3.10/dist-packages (from matplotlib) (1.25.2)\n",
            "Requirement already satisfied: packaging>=20.0 in /usr/local/lib/python3.10/dist-packages (from matplotlib) (24.1)\n",
            "Requirement already satisfied: pillow>=6.2.0 in /usr/local/lib/python3.10/dist-packages (from matplotlib) (9.4.0)\n",
            "Requirement already satisfied: pyparsing>=2.3.1 in /usr/local/lib/python3.10/dist-packages (from matplotlib) (3.1.2)\n",
            "Requirement already satisfied: python-dateutil>=2.7 in /usr/local/lib/python3.10/dist-packages (from matplotlib) (2.8.2)\n",
            "Requirement already satisfied: absl-py in /usr/local/lib/python3.10/dist-packages (from rouge-score) (1.4.0)\n",
            "Requirement already satisfied: six>=1.14.0 in /usr/local/lib/python3.10/dist-packages (from rouge-score) (1.16.0)\n",
            "/content/drive/.shortcut-targets-by-id/1gesrWzv6zLxGIKi9f-n1Fx5jDxeGs-J7/SimCTG/pretraining\n"
          ]
        }
      ]
    },
    {
      "cell_type": "markdown",
      "source": [
        "## Lấy dữ liệu từ nội dung của một bài báo trên vnexpress"
      ],
      "metadata": {
        "id": "AVAREt26mhxw"
      }
    },
    {
      "cell_type": "code",
      "source": [
        "# URL của bài báo trên VnExpress\n",
        "url = 'https://vnexpress.net/5-tac-hai-khi-bo-bua-sang-4767185.html'\n",
        "\n",
        "# Lấy dữ liệu từ trang web\n",
        "response = requests.get(url)\n",
        "soup = BeautifulSoup(response.text, 'html.parser')\n",
        "\n",
        "# Nội dung bài báo nằm trong thẻ <p>\n",
        "content = ' '.join([p.text for p in soup.find_all('p')])\n",
        "content = ' '.join(content.split()[:149])  # Giới hạn nội dung ở 149 ký tự\n",
        "print(\"Nội dung bài báo:\\n\", content)\n",
        "\n",
        "# Lấy 30 từ đầu tiên của bài báo làm input\n",
        "input_text = ' '.join(content.split()[:30])\n",
        "print(\"\\n30 từ đầu tiên:\\n\", input_text)"
      ],
      "metadata": {
        "colab": {
          "base_uri": "https://localhost:8080/"
        },
        "id": "toU-_m-HrMxJ",
        "outputId": "52e53289-5e09-43f2-8a61-b8b58bc7699b"
      },
      "execution_count": null,
      "outputs": [
        {
          "output_type": "stream",
          "name": "stdout",
          "text": [
            "Nội dung bài báo:\n",
            " Nhịn ăn sáng có thể gây tăng cân, tăng nguy cơ mắc bệnh mãn tính, khiến cơ thể thiếu hụt chất dinh dưỡng và vitamin. Theo BS.CK2 Huỳnh Tấn Vũ, Bệnh viện Đại học Y Dược TP HCM - Cơ sở 3, bữa sáng có vai trò vô cùng quan trọng đối với sức khỏe cả thể chất lẫn tinh thần. Một bữa sáng đầy đủ dinh dưỡng sẽ giúp cải thiện sức khỏe và hạn chế mắc phải các loại bệnh lý có liên quan. Theo bác sĩ Vũ, một số tác hại của việc nhịn ăn sáng, như sau: Ảnh hưởng đến năng lượng, tinh thần Bữa sáng giúp tái cung cấp năng lượng cho cơ thể sau một khoảng thời gian dài qua đêm, giúp não và cơ thể được cung cấp nguồn năng lượng cho một ngày mới làm việc hoặc học tập hiệu quả.\n",
            "\n",
            "30 từ đầu tiên:\n",
            " Nhịn ăn sáng có thể gây tăng cân, tăng nguy cơ mắc bệnh mãn tính, khiến cơ thể thiếu hụt chất dinh dưỡng và vitamin. Theo BS.CK2 Huỳnh Tấn Vũ,\n"
          ]
        }
      ]
    },
    {
      "cell_type": "markdown",
      "source": [
        "## Tải mô hình GPT-2 tiếng Việt"
      ],
      "metadata": {
        "id": "nH13s8cujo9E"
      }
    },
    {
      "cell_type": "code",
      "source": [
        "# Tải mô hình GPT-2 tiếng Việt\n",
        "model_path = 'NlpHUST/gpt2-vietnamese'\n",
        "model = SimCTGPretraining(model_path)\n",
        "model.eval()"
      ],
      "metadata": {
        "colab": {
          "base_uri": "https://localhost:8080/"
        },
        "id": "rP__OsAYriL7",
        "outputId": "2acb81ec-94c1-4a88-e36c-1818b2685fe1"
      },
      "execution_count": null,
      "outputs": [
        {
          "output_type": "stream",
          "name": "stdout",
          "text": [
            "Further pre-train with available parameters.\n"
          ]
        },
        {
          "output_type": "execute_result",
          "data": {
            "text/plain": [
              "SimCTGPretraining(\n",
              "  (model): GPT2LMHeadModel(\n",
              "    (transformer): GPT2Model(\n",
              "      (wte): Embedding(50257, 768)\n",
              "      (wpe): Embedding(1024, 768)\n",
              "      (drop): Dropout(p=0.0, inplace=False)\n",
              "      (h): ModuleList(\n",
              "        (0-11): 12 x GPT2Block(\n",
              "          (ln_1): LayerNorm((768,), eps=1e-05, elementwise_affine=True)\n",
              "          (attn): GPT2SdpaAttention(\n",
              "            (c_attn): Conv1D()\n",
              "            (c_proj): Conv1D()\n",
              "            (attn_dropout): Dropout(p=0.0, inplace=False)\n",
              "            (resid_dropout): Dropout(p=0.0, inplace=False)\n",
              "          )\n",
              "          (ln_2): LayerNorm((768,), eps=1e-05, elementwise_affine=True)\n",
              "          (mlp): GPT2MLP(\n",
              "            (c_fc): Conv1D()\n",
              "            (c_proj): Conv1D()\n",
              "            (act): NewGELUActivation()\n",
              "            (dropout): Dropout(p=0.0, inplace=False)\n",
              "          )\n",
              "        )\n",
              "      )\n",
              "      (ln_f): LayerNorm((768,), eps=1e-05, elementwise_affine=True)\n",
              "    )\n",
              "    (lm_head): Linear(in_features=768, out_features=50257, bias=False)\n",
              "  )\n",
              "  (logsftmax): LogSoftmax(dim=-1)\n",
              ")"
            ]
          },
          "metadata": {},
          "execution_count": 65
        }
      ]
    },
    {
      "cell_type": "markdown",
      "source": [
        "## Xử lý dữ liệu cho input đầu vào"
      ],
      "metadata": {
        "id": "JzP6qIkfrn0q"
      }
    },
    {
      "cell_type": "code",
      "source": [
        "# Tokenize input text\n",
        "tokens = model.tokenizer.tokenize(input_text)\n",
        "input_ids = model.tokenizer.convert_tokens_to_ids(tokens)\n",
        "input_ids = torch.LongTensor(input_ids).view(1, -1)\n",
        "\n",
        "# Kiểm tra input_ids không trống\n",
        "if len(input_ids) == 0:\n",
        "    raise ValueError(\"Input text is empty after tokenization.\")"
      ],
      "metadata": {
        "id": "p0QNXshLrmr0"
      },
      "execution_count": null,
      "outputs": []
    },
    {
      "cell_type": "markdown",
      "source": [
        "## Áp dụng các phương pháp giải mã để sinh văn bản"
      ],
      "metadata": {
        "id": "Cu195xKIr0V3"
      }
    },
    {
      "cell_type": "code",
      "source": [
        "generated_texts = {}\n",
        "\n",
        "# (1) Sử dụng contrastive search\n",
        "beam_width, alpha, decoding_len = 3, 0.6, 149\n",
        "eos_token = model.tokenizer.eos_token\n",
        "contrastive_output = model.fast_contrastive_search(input_ids, beam_width, alpha, decoding_len, eos_token)\n",
        "generated_texts[\"Contrastive\"] = contrastive_output\n",
        "print('\\n Contrastive:')\n",
        "print(contrastive_output)\n",
        "\n",
        "# (2) Sử dụng nucleus sampling\n",
        "nucleus_p, decoding_len = 0.95, 149\n",
        "eos_token = model.tokenizer.eos_token\n",
        "nucleus_output = model.nucleus_sampling(input_ids, nucleus_p, decoding_len, eos_token)\n",
        "generated_texts[\"Nucleus\"] = nucleus_output\n",
        "print('\\n Nucleus:')\n",
        "print(nucleus_output)\n",
        "\n",
        "# (3) Sử dụng greedy search\n",
        "decoding_len = 149\n",
        "eos_token = model.tokenizer.eos_token\n",
        "greedy_output = model.greedy_search(input_ids, decoding_len, eos_token)\n",
        "generated_texts[\"Greedy\"] = greedy_output\n",
        "print('\\n Greedy:')\n",
        "print(greedy_output)\n",
        "\n",
        "# (4) Sử dụng beam search\n",
        "beam_width, decoding_len = 10, 149\n",
        "eos_token = model.tokenizer.eos_token\n",
        "beam_output = model.beam_search(input_ids, beam_width, decoding_len, eos_token)\n",
        "generated_texts[\"Beam\"] = beam_output\n",
        "print('\\n Beam:')\n",
        "print(beam_output)"
      ],
      "metadata": {
        "colab": {
          "base_uri": "https://localhost:8080/"
        },
        "id": "Ek1PvJBZjs27",
        "outputId": "e6588f01-c789-4ae8-a759-69ff55951c47"
      },
      "execution_count": null,
      "outputs": [
        {
          "output_type": "stream",
          "name": "stderr",
          "text": [
            "The attention mask and the pad token id were not set. As a consequence, you may observe unexpected behavior. Please pass your input's `attention_mask` to obtain reliable results.\n",
            "Setting `pad_token_id` to `eos_token_id`:50256 for open-end generation.\n"
          ]
        },
        {
          "output_type": "stream",
          "name": "stdout",
          "text": [
            "\n",
            " Contrastive:\n",
            "Nhịn ăn sáng có thể gây tăng cân, tăng nguy cơ mắc bệnh mãn tính, khiến cơ thể thiếu hụt chất dinh dưỡng và vitamin. Theo BS.CK2 Huỳnh Tấn Vũ, Trưởng khoa Dinh dưỡng lâm sàng (Bệnh viện Đa khoa tỉnh Đắk Lắk), chế độ ăn giảm cân không chỉ ảnh hưởng đến sức khỏe mà còn có thể làm tăng nguy cơ ung thư.\n",
            "BS Vũ cho biết, ăn sáng là bữa ăn quan trọng nhất trong ngày, giúp cung cấp năng lượng cho cơ thể hoạt động. Tuy nhiên, ăn sáng quá nhiều sẽ khiến lượng đường trong máu tăng cao, dễ dẫn đến béo phì. Ngoài ra, ăn sáng quá nhiều còn khiến bạn tăng cân nhanh hơn so với bình thường.\n",
            "Theo chuyên gia dinh dưỡng, nếu ăn sáng quá nhiều, bạn sẽ có cảm giác no lâu, ăn nhiều thức ăn có hại cho sức khỏe như đường, tinh bột, chất béo… Vì vậy,\n"
          ]
        },
        {
          "output_type": "stream",
          "name": "stderr",
          "text": [
            "The attention mask and the pad token id were not set. As a consequence, you may observe unexpected behavior. Please pass your input's `attention_mask` to obtain reliable results.\n",
            "Setting `pad_token_id` to `eos_token_id`:50256 for open-end generation.\n"
          ]
        },
        {
          "output_type": "stream",
          "name": "stdout",
          "text": [
            "\n",
            " Nucleus:\n",
            "Nhịn ăn sáng có thể gây tăng cân, tăng nguy cơ mắc bệnh mãn tính, khiến cơ thể thiếu hụt chất dinh dưỡng và vitamin. Theo BS.CK2 Huỳnh Tấn Vũ, Trung tâm Dinh dưỡng TP HCM, bữa sáng có thể gây tăng cân, tăng nguy cơ mắc bệnh mãn tính, khiến cơ thể thiếu hụt chất dinh dưỡng và vitamin.(Thế giới sắc đẹp) - Olympic Việt Nam vs Olympic Syria vs cường quốc Tây Á tại sân Mỹ Đình, cùng được VTV mua lại và phát sóng vào 20h00 tối nay theo giờ Việt Nam.\n",
            "Thông tin trên được Vietnam+đưa tin với cái giá bằng 1% thị trường chuyển nhượng, giúp thỏa thuận thâu tóm The Citizens được hình thành. Cụ thể, khoảng 1.300.000 USD sau đó sẽ được rút khỏi The Citizens để đầu tư vào Premier League cũng như nhiều sân vận động khác ở Anh Quốc. Liverpool hiện đang sở hữu 13 bất\n"
          ]
        },
        {
          "output_type": "stream",
          "name": "stderr",
          "text": [
            "The attention mask and the pad token id were not set. As a consequence, you may observe unexpected behavior. Please pass your input's `attention_mask` to obtain reliable results.\n",
            "Setting `pad_token_id` to `eos_token_id`:50256 for open-end generation.\n"
          ]
        },
        {
          "output_type": "stream",
          "name": "stdout",
          "text": [
            "\n",
            " Greedy:\n",
            "Nhịn ăn sáng có thể gây tăng cân, tăng nguy cơ mắc bệnh mãn tính, khiến cơ thể thiếu hụt chất dinh dưỡng và vitamin. Theo BS.CK2 Huỳnh Tấn Vũ, Trưởng khoa Dinh dưỡng, Bệnh viện Đa khoa tỉnh Bình Thuận, ăn sáng không chỉ giúp cơ thể khỏe mạnh mà còn giúp giảm cân hiệu quả.\n",
            "Theo BS.CK2 Huỳnh Tấn Vũ, Trưởng khoa Dinh dưỡng, Bệnh viện Đa khoa tỉnh Bình Thuận, ăn sáng không chỉ giúp cơ thể khỏe mạnh mà còn giúp giảm cân hiệu quả. Ảnh: Internet\n",
            "Theo BS.CK2 Huỳnh Tấn Vũ, Trưởng khoa Dinh dưỡng, Bệnh viện Đa khoa tỉnh Bình Thuận, ăn sáng không chỉ giúp cơ thể khỏe mạnh mà còn giúp giảm cân hiệu quả. Ảnh: Internet\n",
            "Theo BS.CK2 Huỳnh Tấn Vũ, Trưởng khoa Dinh dưỡng, Bệnh viện Đa khoa tỉnh Bình Thuận, ăn sáng không chỉ giúp cơ thể khỏe mạnh mà\n",
            "\n",
            " Beam:\n",
            "Nhịn ăn sáng có thể gây tăng cân, tăng nguy cơ mắc bệnh mãn tính, khiến cơ thể thiếu hụt chất dinh dưỡng và vitamin. Theo BS.CK2 Huỳnh Tấn Vũ, Trung tâm Dinh dưỡng TP.HCM, nhịn ăn sáng có thể gây tăng cân, tăng nguy cơ mắc bệnh mãn tính, khiến cơ thể thiếu hụt chất dinh dưỡng và vitamin.\n",
            "Theo BS.CK2 Huỳnh Tấn Vũ, Trung tâm Dinh dưỡng TP.HCM, nhịn ăn sáng có thể gây tăng cân, tăng nguy cơ mắc bệnh mãn tính, khiến cơ thể thiếu hụt chất dinh dưỡng và vitamin.\n",
            "Theo BS.CK2 Huỳnh Tấn Vũ, Trung tâm Dinh dưỡng TP.HCM, nhịn ăn sáng có thể gây tăng cân, tăng nguy cơ mắc bệnh mãn tính, khiến cơ thể thiếu hụt chất dinh dưỡng và vitamin.\n",
            "Theo BS.CK2 Huỳnh Tấn Vũ, Trung tâm Dinh dưỡng TP.HCM, nhịn ăn sáng\n"
          ]
        }
      ]
    },
    {
      "cell_type": "markdown",
      "source": [
        "## Đánh giá và so sánh các phương pháp giải mã trên"
      ],
      "metadata": {
        "id": "84yyOQR7r08g"
      }
    },
    {
      "cell_type": "code",
      "source": [
        "# Hàm tính BLEU score\n",
        "def calculate_bleu_score(generated_text, reference_tokens):\n",
        "    return corpus_bleu([[reference_tokens]], [generated_text])\n",
        "\n",
        "# Hàm tính ROUGE score\n",
        "def calculate_rouge_score(generated_text, reference_text):\n",
        "    scorer = rouge_scorer.RougeScorer(['rougeL'], use_stemmer=True)\n",
        "    scores = scorer.score(reference_text, ' '.join(generated_text))\n",
        "    return scores['rougeL'].fmeasure\n",
        "\n",
        "# Tokenize reference text\n",
        "reference_tokens = content.split()\n",
        "\n",
        "# Đánh giá kết quả sinh ra\n",
        "bleu_scores = {}\n",
        "rouge_scores = {}\n",
        "\n",
        "for method, generated_output in generated_texts.items():\n",
        "    generated_tokens = generated_output.split()\n",
        "\n",
        "    bleu = calculate_bleu_score(generated_tokens, reference_tokens)\n",
        "    rouge = calculate_rouge_score(generated_tokens, content)\n",
        "\n",
        "    bleu_scores[method] = bleu\n",
        "    rouge_scores[method] = rouge\n",
        "\n",
        "    print(f\"\\n{method} Scores:\")\n",
        "    print(\"BLEU:\", bleu)\n",
        "    print(\"ROUGE:\", rouge)"
      ],
      "metadata": {
        "colab": {
          "base_uri": "https://localhost:8080/"
        },
        "id": "lEJRSpUUkeEx",
        "outputId": "f911aa04-87d0-4968-cfc0-e5483730d99e"
      },
      "execution_count": null,
      "outputs": [
        {
          "output_type": "stream",
          "name": "stdout",
          "text": [
            "\n",
            "Contrastive Scores:\n",
            "BLEU: 0.25862929582920396\n",
            "ROUGE: 0.46218487394957986\n",
            "\n",
            "Nucleus Scores:\n",
            "BLEU: 0.22348196731872394\n",
            "ROUGE: 0.4592274678111588\n",
            "\n",
            "Greedy Scores:\n",
            "BLEU: 0.22354882288168385\n",
            "ROUGE: 0.4472573839662447\n",
            "\n",
            "Beam Scores:\n",
            "BLEU: 0.22931248121390424\n",
            "ROUGE: 0.43290043290043295\n"
          ]
        }
      ]
    },
    {
      "cell_type": "code",
      "source": [
        "# Hàm vẽ biểu đồ\n",
        "def plot_scores(scores, score_name):\n",
        "    methods = list(scores.keys())\n",
        "    values = list(scores.values())\n",
        "\n",
        "    plt.figure(figsize=(10, 5))\n",
        "    plt.bar(methods, values)\n",
        "    plt.title(f'{score_name} Scores for Different Generation Methods')\n",
        "    plt.xlabel('Generation Method')\n",
        "    plt.ylabel(f'{score_name} Score')\n",
        "    plt.show()\n",
        "\n",
        "# Vẽ biểu đồ BLEU và ROUGE scores\n",
        "plot_scores(bleu_scores, 'BLEU')\n",
        "plot_scores(rouge_scores, 'ROUGE')"
      ],
      "metadata": {
        "colab": {
          "base_uri": "https://localhost:8080/",
          "height": 957
        },
        "id": "-ZNt33X4uMmQ",
        "outputId": "d6575704-dff9-4470-d193-020d0a137363"
      },
      "execution_count": null,
      "outputs": [
        {
          "output_type": "display_data",
          "data": {
            "text/plain": [
              "<Figure size 1000x500 with 1 Axes>"
            ],
            "image/png": "[encoded data removed]"
          },
          "metadata": {}
        },
        {
          "output_type": "display_data",
          "data": {
            "text/plain": [
              "<Figure size 1000x500 with 1 Axes>"
            ],
            "image/png": "[encoded data removed]"
          },
          "metadata": {}
        }
      ]
    }
  ]
}